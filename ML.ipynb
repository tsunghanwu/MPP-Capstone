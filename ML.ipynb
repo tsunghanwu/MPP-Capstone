{
 "cells": [
  {
   "cell_type": "code",
   "execution_count": 94,
   "metadata": {},
   "outputs": [],
   "source": [
    "import pandas as pd\n",
    "import numpy as np\n",
    "import matplotlib.pyplot as plt\n",
    "import seaborn as sns\n",
    "\n",
    "%matplotlib inline"
   ]
  },
  {
   "cell_type": "markdown",
   "metadata": {},
   "source": [
    "## I. Overview on Training Set"
   ]
  },
  {
   "cell_type": "code",
   "execution_count": 95,
   "metadata": {},
   "outputs": [
    {
     "data": {
      "text/html": [
       "<div>\n",
       "<style scoped>\n",
       "    .dataframe tbody tr th:only-of-type {\n",
       "        vertical-align: middle;\n",
       "    }\n",
       "\n",
       "    .dataframe tbody tr th {\n",
       "        vertical-align: top;\n",
       "    }\n",
       "\n",
       "    .dataframe thead th {\n",
       "        text-align: right;\n",
       "    }\n",
       "</style>\n",
       "<table border=\"1\" class=\"dataframe\">\n",
       "  <thead>\n",
       "    <tr style=\"text-align: right;\">\n",
       "      <th></th>\n",
       "      <th>row_id</th>\n",
       "      <th>loan_type</th>\n",
       "      <th>property_type</th>\n",
       "      <th>loan_purpose</th>\n",
       "      <th>occupancy</th>\n",
       "      <th>loan_amount</th>\n",
       "      <th>preapproval</th>\n",
       "      <th>msa_md</th>\n",
       "      <th>state_code</th>\n",
       "      <th>county_code</th>\n",
       "      <th>...</th>\n",
       "      <th>applicant_sex</th>\n",
       "      <th>applicant_income</th>\n",
       "      <th>population</th>\n",
       "      <th>minority_population_pct</th>\n",
       "      <th>ffiecmedian_family_income</th>\n",
       "      <th>tract_to_msa_md_income_pct</th>\n",
       "      <th>number_of_owner-occupied_units</th>\n",
       "      <th>number_of_1_to_4_family_units</th>\n",
       "      <th>lender</th>\n",
       "      <th>co_applicant</th>\n",
       "    </tr>\n",
       "  </thead>\n",
       "  <tbody>\n",
       "    <tr>\n",
       "      <td>0</td>\n",
       "      <td>0</td>\n",
       "      <td>3</td>\n",
       "      <td>1</td>\n",
       "      <td>1</td>\n",
       "      <td>1</td>\n",
       "      <td>70.0</td>\n",
       "      <td>3</td>\n",
       "      <td>18</td>\n",
       "      <td>37</td>\n",
       "      <td>246</td>\n",
       "      <td>...</td>\n",
       "      <td>1</td>\n",
       "      <td>24.0</td>\n",
       "      <td>6203.0</td>\n",
       "      <td>44.230</td>\n",
       "      <td>60588.0</td>\n",
       "      <td>50.933</td>\n",
       "      <td>716.0</td>\n",
       "      <td>2642.0</td>\n",
       "      <td>4536</td>\n",
       "      <td>False</td>\n",
       "    </tr>\n",
       "    <tr>\n",
       "      <td>1</td>\n",
       "      <td>1</td>\n",
       "      <td>1</td>\n",
       "      <td>1</td>\n",
       "      <td>3</td>\n",
       "      <td>1</td>\n",
       "      <td>178.0</td>\n",
       "      <td>3</td>\n",
       "      <td>369</td>\n",
       "      <td>52</td>\n",
       "      <td>299</td>\n",
       "      <td>...</td>\n",
       "      <td>1</td>\n",
       "      <td>57.0</td>\n",
       "      <td>5774.0</td>\n",
       "      <td>15.905</td>\n",
       "      <td>54821.0</td>\n",
       "      <td>100.000</td>\n",
       "      <td>1622.0</td>\n",
       "      <td>2108.0</td>\n",
       "      <td>2458</td>\n",
       "      <td>False</td>\n",
       "    </tr>\n",
       "    <tr>\n",
       "      <td>2</td>\n",
       "      <td>2</td>\n",
       "      <td>2</td>\n",
       "      <td>1</td>\n",
       "      <td>3</td>\n",
       "      <td>1</td>\n",
       "      <td>163.0</td>\n",
       "      <td>3</td>\n",
       "      <td>16</td>\n",
       "      <td>10</td>\n",
       "      <td>306</td>\n",
       "      <td>...</td>\n",
       "      <td>1</td>\n",
       "      <td>67.0</td>\n",
       "      <td>6094.0</td>\n",
       "      <td>61.270</td>\n",
       "      <td>67719.0</td>\n",
       "      <td>100.000</td>\n",
       "      <td>760.0</td>\n",
       "      <td>1048.0</td>\n",
       "      <td>5710</td>\n",
       "      <td>False</td>\n",
       "    </tr>\n",
       "    <tr>\n",
       "      <td>3</td>\n",
       "      <td>3</td>\n",
       "      <td>1</td>\n",
       "      <td>1</td>\n",
       "      <td>1</td>\n",
       "      <td>1</td>\n",
       "      <td>155.0</td>\n",
       "      <td>1</td>\n",
       "      <td>305</td>\n",
       "      <td>47</td>\n",
       "      <td>180</td>\n",
       "      <td>...</td>\n",
       "      <td>1</td>\n",
       "      <td>105.0</td>\n",
       "      <td>6667.0</td>\n",
       "      <td>6.246</td>\n",
       "      <td>78439.0</td>\n",
       "      <td>100.000</td>\n",
       "      <td>2025.0</td>\n",
       "      <td>2299.0</td>\n",
       "      <td>5888</td>\n",
       "      <td>True</td>\n",
       "    </tr>\n",
       "    <tr>\n",
       "      <td>4</td>\n",
       "      <td>4</td>\n",
       "      <td>1</td>\n",
       "      <td>1</td>\n",
       "      <td>1</td>\n",
       "      <td>1</td>\n",
       "      <td>305.0</td>\n",
       "      <td>3</td>\n",
       "      <td>24</td>\n",
       "      <td>37</td>\n",
       "      <td>20</td>\n",
       "      <td>...</td>\n",
       "      <td>2</td>\n",
       "      <td>71.0</td>\n",
       "      <td>6732.0</td>\n",
       "      <td>100.000</td>\n",
       "      <td>63075.0</td>\n",
       "      <td>82.200</td>\n",
       "      <td>1464.0</td>\n",
       "      <td>1847.0</td>\n",
       "      <td>289</td>\n",
       "      <td>False</td>\n",
       "    </tr>\n",
       "  </tbody>\n",
       "</table>\n",
       "<p>5 rows × 22 columns</p>\n",
       "</div>"
      ],
      "text/plain": [
       "   row_id  loan_type  property_type  loan_purpose  occupancy  loan_amount  \\\n",
       "0       0          3              1             1          1         70.0   \n",
       "1       1          1              1             3          1        178.0   \n",
       "2       2          2              1             3          1        163.0   \n",
       "3       3          1              1             1          1        155.0   \n",
       "4       4          1              1             1          1        305.0   \n",
       "\n",
       "   preapproval  msa_md  state_code  county_code  ...  applicant_sex  \\\n",
       "0            3      18          37          246  ...              1   \n",
       "1            3     369          52          299  ...              1   \n",
       "2            3      16          10          306  ...              1   \n",
       "3            1     305          47          180  ...              1   \n",
       "4            3      24          37           20  ...              2   \n",
       "\n",
       "   applicant_income  population  minority_population_pct  \\\n",
       "0              24.0      6203.0                   44.230   \n",
       "1              57.0      5774.0                   15.905   \n",
       "2              67.0      6094.0                   61.270   \n",
       "3             105.0      6667.0                    6.246   \n",
       "4              71.0      6732.0                  100.000   \n",
       "\n",
       "   ffiecmedian_family_income  tract_to_msa_md_income_pct  \\\n",
       "0                    60588.0                      50.933   \n",
       "1                    54821.0                     100.000   \n",
       "2                    67719.0                     100.000   \n",
       "3                    78439.0                     100.000   \n",
       "4                    63075.0                      82.200   \n",
       "\n",
       "   number_of_owner-occupied_units  number_of_1_to_4_family_units  lender  \\\n",
       "0                           716.0                         2642.0    4536   \n",
       "1                          1622.0                         2108.0    2458   \n",
       "2                           760.0                         1048.0    5710   \n",
       "3                          2025.0                         2299.0    5888   \n",
       "4                          1464.0                         1847.0     289   \n",
       "\n",
       "   co_applicant  \n",
       "0         False  \n",
       "1         False  \n",
       "2         False  \n",
       "3          True  \n",
       "4         False  \n",
       "\n",
       "[5 rows x 22 columns]"
      ]
     },
     "execution_count": 95,
     "metadata": {},
     "output_type": "execute_result"
    }
   ],
   "source": [
    "X_train = pd.read_csv('train_values.csv')\n",
    "X_train.head()"
   ]
  },
  {
   "cell_type": "markdown",
   "metadata": {},
   "source": [
    "### - Data types of the columns"
   ]
  },
  {
   "cell_type": "code",
   "execution_count": 96,
   "metadata": {},
   "outputs": [
    {
     "name": "stdout",
     "output_type": "stream",
     "text": [
      "<class 'pandas.core.frame.DataFrame'>\n",
      "RangeIndex: 500000 entries, 0 to 499999\n",
      "Data columns (total 22 columns):\n",
      "row_id                            500000 non-null int64\n",
      "loan_type                         500000 non-null int64\n",
      "property_type                     500000 non-null int64\n",
      "loan_purpose                      500000 non-null int64\n",
      "occupancy                         500000 non-null int64\n",
      "loan_amount                       500000 non-null float64\n",
      "preapproval                       500000 non-null int64\n",
      "msa_md                            500000 non-null int64\n",
      "state_code                        500000 non-null int64\n",
      "county_code                       500000 non-null int64\n",
      "applicant_ethnicity               500000 non-null int64\n",
      "applicant_race                    500000 non-null int64\n",
      "applicant_sex                     500000 non-null int64\n",
      "applicant_income                  460052 non-null float64\n",
      "population                        477535 non-null float64\n",
      "minority_population_pct           477534 non-null float64\n",
      "ffiecmedian_family_income         477560 non-null float64\n",
      "tract_to_msa_md_income_pct        477486 non-null float64\n",
      "number_of_owner-occupied_units    477435 non-null float64\n",
      "number_of_1_to_4_family_units     477470 non-null float64\n",
      "lender                            500000 non-null int64\n",
      "co_applicant                      500000 non-null bool\n",
      "dtypes: bool(1), float64(8), int64(13)\n",
      "memory usage: 80.6 MB\n"
     ]
    }
   ],
   "source": [
    "X_train.info()"
   ]
  },
  {
   "cell_type": "markdown",
   "metadata": {},
   "source": [
    "### - Sum of the NA values in the columns"
   ]
  },
  {
   "cell_type": "code",
   "execution_count": 97,
   "metadata": {},
   "outputs": [
    {
     "data": {
      "text/plain": [
       "row_id                                0\n",
       "loan_type                             0\n",
       "property_type                         0\n",
       "loan_purpose                          0\n",
       "occupancy                             0\n",
       "loan_amount                           0\n",
       "preapproval                           0\n",
       "msa_md                                0\n",
       "state_code                            0\n",
       "county_code                           0\n",
       "applicant_ethnicity                   0\n",
       "applicant_race                        0\n",
       "applicant_sex                         0\n",
       "applicant_income                  39948\n",
       "population                        22465\n",
       "minority_population_pct           22466\n",
       "ffiecmedian_family_income         22440\n",
       "tract_to_msa_md_income_pct        22514\n",
       "number_of_owner-occupied_units    22565\n",
       "number_of_1_to_4_family_units     22530\n",
       "lender                                0\n",
       "co_applicant                          0\n",
       "dtype: int64"
      ]
     },
     "execution_count": 97,
     "metadata": {},
     "output_type": "execute_result"
    }
   ],
   "source": [
    "X_train.isnull().sum()"
   ]
  },
  {
   "cell_type": "code",
   "execution_count": 98,
   "metadata": {},
   "outputs": [],
   "source": [
    "cat_cols = ['msa_md', 'state_code', 'county_code', 'lender', 'loan_type', 'loan_purpose', 'preapproval', 'property_type', 'occupancy',\n",
    "           'applicant_ethnicity', 'applicant_race', 'applicant_sex']"
   ]
  },
  {
   "cell_type": "code",
   "execution_count": 99,
   "metadata": {},
   "outputs": [],
   "source": [
    "num_cols = ['loan_amount', 'applicant_income', 'population', 'minority_population_pct', 'ffiecmedian_family_income', \n",
    "            'tract_to_msa_md_income_pct', 'number_of_owner-occupied_units', 'number_of_1_to_4_family_units']"
   ]
  },
  {
   "cell_type": "markdown",
   "metadata": {},
   "source": [
    "## II. Distribution of the numeric columns"
   ]
  },
  {
   "cell_type": "markdown",
   "metadata": {},
   "source": [
    "### - Summary statstics for the numeric columns"
   ]
  },
  {
   "cell_type": "code",
   "execution_count": 100,
   "metadata": {},
   "outputs": [
    {
     "data": {
      "text/html": [
       "<div>\n",
       "<style scoped>\n",
       "    .dataframe tbody tr th:only-of-type {\n",
       "        vertical-align: middle;\n",
       "    }\n",
       "\n",
       "    .dataframe tbody tr th {\n",
       "        vertical-align: top;\n",
       "    }\n",
       "\n",
       "    .dataframe thead th {\n",
       "        text-align: right;\n",
       "    }\n",
       "</style>\n",
       "<table border=\"1\" class=\"dataframe\">\n",
       "  <thead>\n",
       "    <tr style=\"text-align: right;\">\n",
       "      <th></th>\n",
       "      <th>loan_amount</th>\n",
       "      <th>applicant_income</th>\n",
       "      <th>population</th>\n",
       "      <th>minority_population_pct</th>\n",
       "      <th>ffiecmedian_family_income</th>\n",
       "      <th>tract_to_msa_md_income_pct</th>\n",
       "      <th>number_of_owner-occupied_units</th>\n",
       "      <th>number_of_1_to_4_family_units</th>\n",
       "    </tr>\n",
       "  </thead>\n",
       "  <tbody>\n",
       "    <tr>\n",
       "      <td>count</td>\n",
       "      <td>500000.00</td>\n",
       "      <td>460052.00</td>\n",
       "      <td>477535.00</td>\n",
       "      <td>477534.00</td>\n",
       "      <td>477560.00</td>\n",
       "      <td>477486.00</td>\n",
       "      <td>477435.00</td>\n",
       "      <td>477470.00</td>\n",
       "    </tr>\n",
       "    <tr>\n",
       "      <td>mean</td>\n",
       "      <td>221.75</td>\n",
       "      <td>102.39</td>\n",
       "      <td>5416.83</td>\n",
       "      <td>31.62</td>\n",
       "      <td>69235.60</td>\n",
       "      <td>91.83</td>\n",
       "      <td>1427.72</td>\n",
       "      <td>1886.15</td>\n",
       "    </tr>\n",
       "    <tr>\n",
       "      <td>std</td>\n",
       "      <td>590.64</td>\n",
       "      <td>153.53</td>\n",
       "      <td>2728.14</td>\n",
       "      <td>26.33</td>\n",
       "      <td>14810.06</td>\n",
       "      <td>14.21</td>\n",
       "      <td>737.56</td>\n",
       "      <td>914.12</td>\n",
       "    </tr>\n",
       "    <tr>\n",
       "      <td>min</td>\n",
       "      <td>1.00</td>\n",
       "      <td>1.00</td>\n",
       "      <td>14.00</td>\n",
       "      <td>0.53</td>\n",
       "      <td>17858.00</td>\n",
       "      <td>3.98</td>\n",
       "      <td>4.00</td>\n",
       "      <td>1.00</td>\n",
       "    </tr>\n",
       "    <tr>\n",
       "      <td>25%</td>\n",
       "      <td>93.00</td>\n",
       "      <td>47.00</td>\n",
       "      <td>3744.00</td>\n",
       "      <td>10.70</td>\n",
       "      <td>59731.00</td>\n",
       "      <td>88.07</td>\n",
       "      <td>944.00</td>\n",
       "      <td>1301.00</td>\n",
       "    </tr>\n",
       "    <tr>\n",
       "      <td>50%</td>\n",
       "      <td>162.00</td>\n",
       "      <td>74.00</td>\n",
       "      <td>4975.00</td>\n",
       "      <td>22.90</td>\n",
       "      <td>67526.00</td>\n",
       "      <td>100.00</td>\n",
       "      <td>1327.00</td>\n",
       "      <td>1753.00</td>\n",
       "    </tr>\n",
       "    <tr>\n",
       "      <td>75%</td>\n",
       "      <td>266.00</td>\n",
       "      <td>117.00</td>\n",
       "      <td>6467.00</td>\n",
       "      <td>46.02</td>\n",
       "      <td>75351.00</td>\n",
       "      <td>100.00</td>\n",
       "      <td>1780.00</td>\n",
       "      <td>2309.00</td>\n",
       "    </tr>\n",
       "    <tr>\n",
       "      <td>max</td>\n",
       "      <td>100878.00</td>\n",
       "      <td>10139.00</td>\n",
       "      <td>37097.00</td>\n",
       "      <td>100.00</td>\n",
       "      <td>125248.00</td>\n",
       "      <td>100.00</td>\n",
       "      <td>8771.00</td>\n",
       "      <td>13623.00</td>\n",
       "    </tr>\n",
       "  </tbody>\n",
       "</table>\n",
       "</div>"
      ],
      "text/plain": [
       "       loan_amount  applicant_income  population  minority_population_pct  \\\n",
       "count    500000.00         460052.00   477535.00                477534.00   \n",
       "mean        221.75            102.39     5416.83                    31.62   \n",
       "std         590.64            153.53     2728.14                    26.33   \n",
       "min           1.00              1.00       14.00                     0.53   \n",
       "25%          93.00             47.00     3744.00                    10.70   \n",
       "50%         162.00             74.00     4975.00                    22.90   \n",
       "75%         266.00            117.00     6467.00                    46.02   \n",
       "max      100878.00          10139.00    37097.00                   100.00   \n",
       "\n",
       "       ffiecmedian_family_income  tract_to_msa_md_income_pct  \\\n",
       "count                  477560.00                   477486.00   \n",
       "mean                    69235.60                       91.83   \n",
       "std                     14810.06                       14.21   \n",
       "min                     17858.00                        3.98   \n",
       "25%                     59731.00                       88.07   \n",
       "50%                     67526.00                      100.00   \n",
       "75%                     75351.00                      100.00   \n",
       "max                    125248.00                      100.00   \n",
       "\n",
       "       number_of_owner-occupied_units  number_of_1_to_4_family_units  \n",
       "count                       477435.00                      477470.00  \n",
       "mean                          1427.72                        1886.15  \n",
       "std                            737.56                         914.12  \n",
       "min                              4.00                           1.00  \n",
       "25%                            944.00                        1301.00  \n",
       "50%                           1327.00                        1753.00  \n",
       "75%                           1780.00                        2309.00  \n",
       "max                           8771.00                       13623.00  "
      ]
     },
     "execution_count": 100,
     "metadata": {},
     "output_type": "execute_result"
    }
   ],
   "source": [
    "X_train[num_cols].describe().apply(lambda x: np.round(x, 2))"
   ]
  },
  {
   "cell_type": "markdown",
   "metadata": {},
   "source": [
    "### - Distribution of the numeric columns"
   ]
  },
  {
   "cell_type": "code",
   "execution_count": 101,
   "metadata": {},
   "outputs": [
    {
     "name": "stderr",
     "output_type": "stream",
     "text": [
      "D:\\Softwares\\Anaconda3\\lib\\site-packages\\numpy\\lib\\histograms.py:824: RuntimeWarning: invalid value encountered in greater_equal\n",
      "  keep = (tmp_a >= first_edge)\n",
      "D:\\Softwares\\Anaconda3\\lib\\site-packages\\numpy\\lib\\histograms.py:825: RuntimeWarning: invalid value encountered in less_equal\n",
      "  keep &= (tmp_a <= last_edge)\n"
     ]
    },
    {
     "data": {
      "image/png": "[encoded data removed]",
      "text/plain": [
       "<Figure size 1008x432 with 8 Axes>"
      ]
     },
     "metadata": {
      "needs_background": "light"
     },
     "output_type": "display_data"
    }
   ],
   "source": [
    "fig = plt.figure(figsize=(14,6))\n",
    "for i, col in enumerate(num_cols):\n",
    "    fig = plt.subplot(2,4,i+1)\n",
    "    plt.hist(X_train[col])\n",
    "    plt.title(col)\n",
    "plt.tight_layout(h_pad=2);"
   ]
  },
  {
   "cell_type": "markdown",
   "metadata": {},
   "source": [
    "## III. Correlation analysis for the numeric columns in the training set\n",
    "### - Correlation matrix"
   ]
  },
  {
   "cell_type": "code",
   "execution_count": 102,
   "metadata": {},
   "outputs": [
    {
     "data": {
      "text/plain": [
       "<matplotlib.axes._subplots.AxesSubplot at 0x1b616430c88>"
      ]
     },
     "execution_count": 102,
     "metadata": {},
     "output_type": "execute_result"
    },
    {
     "data": {
      "image/png": "[encoded data removed]",
      "text/plain": [
       "<Figure size 720x432 with 2 Axes>"
      ]
     },
     "metadata": {
      "needs_background": "light"
     },
     "output_type": "display_data"
    }
   ],
   "source": [
    "fig = plt.figure(figsize=(10, 6))\n",
    "sns.heatmap(X_train[num_cols].corr(), annot=True, cmap='plasma')"
   ]
  },
  {
   "cell_type": "markdown",
   "metadata": {},
   "source": [
    "### - Find the highly correlated columns"
   ]
  },
  {
   "cell_type": "code",
   "execution_count": 103,
   "metadata": {},
   "outputs": [
    {
     "data": {
      "text/plain": [
       "<seaborn.axisgrid.JointGrid at 0x1b61062df28>"
      ]
     },
     "execution_count": 103,
     "metadata": {},
     "output_type": "execute_result"
    },
    {
     "data": {
      "image/png": "[encoded data removed]",
      "text/plain": [
       "<Figure size 432x432 with 3 Axes>"
      ]
     },
     "metadata": {
      "needs_background": "light"
     },
     "output_type": "display_data"
    }
   ],
   "source": [
    "sns.jointplot(y='population', x='number_of_owner-occupied_units', data=X_train, kind='reg', )"
   ]
  },
  {
   "cell_type": "code",
   "execution_count": 104,
   "metadata": {},
   "outputs": [
    {
     "data": {
      "text/plain": [
       "<seaborn.axisgrid.JointGrid at 0x1b60d9b80b8>"
      ]
     },
     "execution_count": 104,
     "metadata": {},
     "output_type": "execute_result"
    },
    {
     "data": {
      "image/png": "[encoded data removed]",
      "text/plain": [
       "<Figure size 432x432 with 3 Axes>"
      ]
     },
     "metadata": {
      "needs_background": "light"
     },
     "output_type": "display_data"
    }
   ],
   "source": [
    "sns.jointplot(y='population', x='number_of_1_to_4_family_units', data=X_train, kind='reg', )"
   ]
  },
  {
   "cell_type": "markdown",
   "metadata": {},
   "source": [
    "## IV. Distribution of the categorical columns"
   ]
  },
  {
   "cell_type": "code",
   "execution_count": 105,
   "metadata": {},
   "outputs": [
    {
     "data": {
      "image/png": "[encoded data removed]",
      "text/plain": [
       "<Figure size 1008x576 with 12 Axes>"
      ]
     },
     "metadata": {
      "needs_background": "light"
     },
     "output_type": "display_data"
    }
   ],
   "source": [
    "fig = plt.figure(figsize=(14,8))\n",
    "for i, col in enumerate(cat_cols):\n",
    "    fig = plt.subplot(3,4,i+1)\n",
    "    sns.distplot(X_train[col], kde=False)\n",
    "plt.tight_layout()"
   ]
  },
  {
   "cell_type": "markdown",
   "metadata": {},
   "source": [
    "## V. Distribution comparison between accepted and not accepted"
   ]
  },
  {
   "cell_type": "code",
   "execution_count": 106,
   "metadata": {},
   "outputs": [],
   "source": [
    "num_cols.remove('number_of_owner-occupied_units')\n",
    "num_cols.remove('number_of_1_to_4_family_units')"
   ]
  },
  {
   "cell_type": "code",
   "execution_count": 107,
   "metadata": {},
   "outputs": [
    {
     "data": {
      "image/png": "[encoded data removed]",
      "text/plain": [
       "<Figure size 1008x432 with 6 Axes>"
      ]
     },
     "metadata": {
      "needs_background": "light"
     },
     "output_type": "display_data"
    }
   ],
   "source": [
    "fig = plt.figure(figsize=(14,6))\n",
    "for i, col in enumerate(num_cols):\n",
    "    fig = plt.subplot(2,4,i+1)\n",
    "    sns.distplot(df_merge[col][df_merge['accepted'] == 1], kde=False)\n",
    "    sns.distplot(df_merge[col][df_merge['accepted'] == 0], kde=False)\n",
    "    plt.legend(['Accepted = 1', 'Accepted = 0'])\n",
    "plt.tight_layout()"
   ]
  },
  {
   "cell_type": "code",
   "execution_count": 108,
   "metadata": {},
   "outputs": [
    {
     "data": {
      "image/png": "[encoded data removed]",
      "text/plain": [
       "<Figure size 1008x576 with 12 Axes>"
      ]
     },
     "metadata": {
      "needs_background": "light"
     },
     "output_type": "display_data"
    }
   ],
   "source": [
    "fig = plt.figure(figsize=(14,8))\n",
    "for i, col in enumerate(cat_cols):\n",
    "    fig = plt.subplot(3,4,i+1)\n",
    "    sns.distplot(df_merge[col][df_merge['accepted'] == 1], kde=False)\n",
    "    sns.distplot(df_merge[col][df_merge['accepted'] == 0], kde=False)\n",
    "    plt.legend(['Accepted = 1', 'Accepted = 0'])\n",
    "plt.tight_layout()"
   ]
  },
  {
   "cell_type": "markdown",
   "metadata": {},
   "source": [
    "## VI. Screen the effects with pivot tables"
   ]
  },
  {
   "cell_type": "code",
   "execution_count": 109,
   "metadata": {},
   "outputs": [
    {
     "data": {
      "text/html": [
       "<div>\n",
       "<style scoped>\n",
       "    .dataframe tbody tr th:only-of-type {\n",
       "        vertical-align: middle;\n",
       "    }\n",
       "\n",
       "    .dataframe tbody tr th {\n",
       "        vertical-align: top;\n",
       "    }\n",
       "\n",
       "    .dataframe thead th {\n",
       "        text-align: right;\n",
       "    }\n",
       "</style>\n",
       "<table border=\"1\" class=\"dataframe\">\n",
       "  <thead>\n",
       "    <tr style=\"text-align: right;\">\n",
       "      <th></th>\n",
       "      <th>accepted</th>\n",
       "    </tr>\n",
       "    <tr>\n",
       "      <th>loan_type</th>\n",
       "      <th></th>\n",
       "    </tr>\n",
       "  </thead>\n",
       "  <tbody>\n",
       "    <tr>\n",
       "      <td>1</td>\n",
       "      <td>0.50</td>\n",
       "    </tr>\n",
       "    <tr>\n",
       "      <td>2</td>\n",
       "      <td>0.51</td>\n",
       "    </tr>\n",
       "    <tr>\n",
       "      <td>3</td>\n",
       "      <td>0.52</td>\n",
       "    </tr>\n",
       "    <tr>\n",
       "      <td>4</td>\n",
       "      <td>0.56</td>\n",
       "    </tr>\n",
       "    <tr>\n",
       "      <td>All</td>\n",
       "      <td>0.50</td>\n",
       "    </tr>\n",
       "  </tbody>\n",
       "</table>\n",
       "</div>"
      ],
      "text/plain": [
       "           accepted\n",
       "loan_type          \n",
       "1              0.50\n",
       "2              0.51\n",
       "3              0.52\n",
       "4              0.56\n",
       "All            0.50"
      ]
     },
     "execution_count": 109,
     "metadata": {},
     "output_type": "execute_result"
    }
   ],
   "source": [
    "pd.pivot_table(df_merge, index='loan_type', values='accepted', aggfunc=np.mean, margins=True).apply(lambda x: np.round(x, 2))"
   ]
  },
  {
   "cell_type": "code",
   "execution_count": 110,
   "metadata": {},
   "outputs": [
    {
     "data": {
      "text/html": [
       "<div>\n",
       "<style scoped>\n",
       "    .dataframe tbody tr th:only-of-type {\n",
       "        vertical-align: middle;\n",
       "    }\n",
       "\n",
       "    .dataframe tbody tr th {\n",
       "        vertical-align: top;\n",
       "    }\n",
       "\n",
       "    .dataframe thead th {\n",
       "        text-align: right;\n",
       "    }\n",
       "</style>\n",
       "<table border=\"1\" class=\"dataframe\">\n",
       "  <thead>\n",
       "    <tr style=\"text-align: right;\">\n",
       "      <th></th>\n",
       "      <th>accepted</th>\n",
       "    </tr>\n",
       "    <tr>\n",
       "      <th>loan_purpose</th>\n",
       "      <th></th>\n",
       "    </tr>\n",
       "  </thead>\n",
       "  <tbody>\n",
       "    <tr>\n",
       "      <td>1</td>\n",
       "      <td>0.59</td>\n",
       "    </tr>\n",
       "    <tr>\n",
       "      <td>2</td>\n",
       "      <td>0.33</td>\n",
       "    </tr>\n",
       "    <tr>\n",
       "      <td>3</td>\n",
       "      <td>0.45</td>\n",
       "    </tr>\n",
       "    <tr>\n",
       "      <td>All</td>\n",
       "      <td>0.50</td>\n",
       "    </tr>\n",
       "  </tbody>\n",
       "</table>\n",
       "</div>"
      ],
      "text/plain": [
       "              accepted\n",
       "loan_purpose          \n",
       "1                 0.59\n",
       "2                 0.33\n",
       "3                 0.45\n",
       "All               0.50"
      ]
     },
     "execution_count": 110,
     "metadata": {},
     "output_type": "execute_result"
    }
   ],
   "source": [
    "pd.pivot_table(df_merge, index='loan_purpose', values='accepted', aggfunc=np.mean, margins=True).apply(lambda x: np.round(x, 2))"
   ]
  },
  {
   "cell_type": "code",
   "execution_count": 111,
   "metadata": {},
   "outputs": [
    {
     "data": {
      "text/html": [
       "<div>\n",
       "<style scoped>\n",
       "    .dataframe tbody tr th:only-of-type {\n",
       "        vertical-align: middle;\n",
       "    }\n",
       "\n",
       "    .dataframe tbody tr th {\n",
       "        vertical-align: top;\n",
       "    }\n",
       "\n",
       "    .dataframe thead th {\n",
       "        text-align: right;\n",
       "    }\n",
       "</style>\n",
       "<table border=\"1\" class=\"dataframe\">\n",
       "  <thead>\n",
       "    <tr style=\"text-align: right;\">\n",
       "      <th>loan_purpose</th>\n",
       "      <th>1</th>\n",
       "      <th>2</th>\n",
       "      <th>3</th>\n",
       "      <th>All</th>\n",
       "    </tr>\n",
       "    <tr>\n",
       "      <th>loan_type</th>\n",
       "      <th></th>\n",
       "      <th></th>\n",
       "      <th></th>\n",
       "      <th></th>\n",
       "    </tr>\n",
       "  </thead>\n",
       "  <tbody>\n",
       "    <tr>\n",
       "      <td>1</td>\n",
       "      <td>0.60</td>\n",
       "      <td>0.33</td>\n",
       "      <td>0.46</td>\n",
       "      <td>0.50</td>\n",
       "    </tr>\n",
       "    <tr>\n",
       "      <td>2</td>\n",
       "      <td>0.60</td>\n",
       "      <td>0.36</td>\n",
       "      <td>0.39</td>\n",
       "      <td>0.51</td>\n",
       "    </tr>\n",
       "    <tr>\n",
       "      <td>3</td>\n",
       "      <td>0.58</td>\n",
       "      <td>0.46</td>\n",
       "      <td>0.46</td>\n",
       "      <td>0.52</td>\n",
       "    </tr>\n",
       "    <tr>\n",
       "      <td>4</td>\n",
       "      <td>0.57</td>\n",
       "      <td>NaN</td>\n",
       "      <td>0.28</td>\n",
       "      <td>0.56</td>\n",
       "    </tr>\n",
       "    <tr>\n",
       "      <td>All</td>\n",
       "      <td>0.59</td>\n",
       "      <td>0.33</td>\n",
       "      <td>0.45</td>\n",
       "      <td>0.50</td>\n",
       "    </tr>\n",
       "  </tbody>\n",
       "</table>\n",
       "</div>"
      ],
      "text/plain": [
       "loan_purpose     1     2     3   All\n",
       "loan_type                           \n",
       "1             0.60  0.33  0.46  0.50\n",
       "2             0.60  0.36  0.39  0.51\n",
       "3             0.58  0.46  0.46  0.52\n",
       "4             0.57   NaN  0.28  0.56\n",
       "All           0.59  0.33  0.45  0.50"
      ]
     },
     "execution_count": 111,
     "metadata": {},
     "output_type": "execute_result"
    }
   ],
   "source": [
    "pd.pivot_table(df_merge, index='loan_type', columns='loan_purpose', values='accepted', aggfunc=np.mean, margins=True).apply(lambda x: np.round(x, 2))"
   ]
  },
  {
   "cell_type": "code",
   "execution_count": 112,
   "metadata": {},
   "outputs": [
    {
     "data": {
      "text/html": [
       "<div>\n",
       "<style scoped>\n",
       "    .dataframe tbody tr th:only-of-type {\n",
       "        vertical-align: middle;\n",
       "    }\n",
       "\n",
       "    .dataframe tbody tr th {\n",
       "        vertical-align: top;\n",
       "    }\n",
       "\n",
       "    .dataframe thead th {\n",
       "        text-align: right;\n",
       "    }\n",
       "</style>\n",
       "<table border=\"1\" class=\"dataframe\">\n",
       "  <thead>\n",
       "    <tr style=\"text-align: right;\">\n",
       "      <th></th>\n",
       "      <th>accepted</th>\n",
       "    </tr>\n",
       "    <tr>\n",
       "      <th>preapproval</th>\n",
       "      <th></th>\n",
       "    </tr>\n",
       "  </thead>\n",
       "  <tbody>\n",
       "    <tr>\n",
       "      <td>1</td>\n",
       "      <td>0.30</td>\n",
       "    </tr>\n",
       "    <tr>\n",
       "      <td>2</td>\n",
       "      <td>0.66</td>\n",
       "    </tr>\n",
       "    <tr>\n",
       "      <td>3</td>\n",
       "      <td>0.49</td>\n",
       "    </tr>\n",
       "    <tr>\n",
       "      <td>All</td>\n",
       "      <td>0.50</td>\n",
       "    </tr>\n",
       "  </tbody>\n",
       "</table>\n",
       "</div>"
      ],
      "text/plain": [
       "             accepted\n",
       "preapproval          \n",
       "1                0.30\n",
       "2                0.66\n",
       "3                0.49\n",
       "All              0.50"
      ]
     },
     "execution_count": 112,
     "metadata": {},
     "output_type": "execute_result"
    }
   ],
   "source": [
    "pd.pivot_table(df_merge, index='preapproval', values='accepted', aggfunc=np.mean, margins=True,).apply(lambda x: np.round(x, 2))"
   ]
  },
  {
   "cell_type": "code",
   "execution_count": 113,
   "metadata": {},
   "outputs": [
    {
     "data": {
      "text/html": [
       "<div>\n",
       "<style scoped>\n",
       "    .dataframe tbody tr th:only-of-type {\n",
       "        vertical-align: middle;\n",
       "    }\n",
       "\n",
       "    .dataframe tbody tr th {\n",
       "        vertical-align: top;\n",
       "    }\n",
       "\n",
       "    .dataframe thead th {\n",
       "        text-align: right;\n",
       "    }\n",
       "</style>\n",
       "<table border=\"1\" class=\"dataframe\">\n",
       "  <thead>\n",
       "    <tr style=\"text-align: right;\">\n",
       "      <th>preapproval</th>\n",
       "      <th>1</th>\n",
       "      <th>2</th>\n",
       "      <th>3</th>\n",
       "      <th>All</th>\n",
       "    </tr>\n",
       "    <tr>\n",
       "      <th>loan_type</th>\n",
       "      <th></th>\n",
       "      <th></th>\n",
       "      <th></th>\n",
       "      <th></th>\n",
       "    </tr>\n",
       "  </thead>\n",
       "  <tbody>\n",
       "    <tr>\n",
       "      <td>1</td>\n",
       "      <td>0.31</td>\n",
       "      <td>0.67</td>\n",
       "      <td>0.49</td>\n",
       "      <td>0.50</td>\n",
       "    </tr>\n",
       "    <tr>\n",
       "      <td>2</td>\n",
       "      <td>0.31</td>\n",
       "      <td>0.62</td>\n",
       "      <td>0.49</td>\n",
       "      <td>0.51</td>\n",
       "    </tr>\n",
       "    <tr>\n",
       "      <td>3</td>\n",
       "      <td>0.22</td>\n",
       "      <td>0.67</td>\n",
       "      <td>0.53</td>\n",
       "      <td>0.52</td>\n",
       "    </tr>\n",
       "    <tr>\n",
       "      <td>4</td>\n",
       "      <td>0.26</td>\n",
       "      <td>0.60</td>\n",
       "      <td>0.60</td>\n",
       "      <td>0.56</td>\n",
       "    </tr>\n",
       "    <tr>\n",
       "      <td>All</td>\n",
       "      <td>0.30</td>\n",
       "      <td>0.66</td>\n",
       "      <td>0.49</td>\n",
       "      <td>0.50</td>\n",
       "    </tr>\n",
       "  </tbody>\n",
       "</table>\n",
       "</div>"
      ],
      "text/plain": [
       "preapproval     1     2     3   All\n",
       "loan_type                          \n",
       "1            0.31  0.67  0.49  0.50\n",
       "2            0.31  0.62  0.49  0.51\n",
       "3            0.22  0.67  0.53  0.52\n",
       "4            0.26  0.60  0.60  0.56\n",
       "All          0.30  0.66  0.49  0.50"
      ]
     },
     "execution_count": 113,
     "metadata": {},
     "output_type": "execute_result"
    }
   ],
   "source": [
    "pd.pivot_table(df_merge, index='loan_type', columns='preapproval', values='accepted', aggfunc=np.mean, margins=True).apply(lambda x: np.round(x, 2))"
   ]
  },
  {
   "cell_type": "code",
   "execution_count": 114,
   "metadata": {},
   "outputs": [
    {
     "data": {
      "text/html": [
       "<div>\n",
       "<style scoped>\n",
       "    .dataframe tbody tr th:only-of-type {\n",
       "        vertical-align: middle;\n",
       "    }\n",
       "\n",
       "    .dataframe tbody tr th {\n",
       "        vertical-align: top;\n",
       "    }\n",
       "\n",
       "    .dataframe thead th {\n",
       "        text-align: right;\n",
       "    }\n",
       "</style>\n",
       "<table border=\"1\" class=\"dataframe\">\n",
       "  <thead>\n",
       "    <tr style=\"text-align: right;\">\n",
       "      <th></th>\n",
       "      <th>accepted</th>\n",
       "    </tr>\n",
       "    <tr>\n",
       "      <th>property_type</th>\n",
       "      <th></th>\n",
       "    </tr>\n",
       "  </thead>\n",
       "  <tbody>\n",
       "    <tr>\n",
       "      <td>1</td>\n",
       "      <td>0.51</td>\n",
       "    </tr>\n",
       "    <tr>\n",
       "      <td>2</td>\n",
       "      <td>0.23</td>\n",
       "    </tr>\n",
       "    <tr>\n",
       "      <td>3</td>\n",
       "      <td>0.66</td>\n",
       "    </tr>\n",
       "    <tr>\n",
       "      <td>All</td>\n",
       "      <td>0.50</td>\n",
       "    </tr>\n",
       "  </tbody>\n",
       "</table>\n",
       "</div>"
      ],
      "text/plain": [
       "               accepted\n",
       "property_type          \n",
       "1                  0.51\n",
       "2                  0.23\n",
       "3                  0.66\n",
       "All                0.50"
      ]
     },
     "execution_count": 114,
     "metadata": {},
     "output_type": "execute_result"
    }
   ],
   "source": [
    "pd.pivot_table(df_merge, index='property_type', values='accepted', aggfunc=np.mean, margins=True,).apply(lambda x: np.round(x, 2))"
   ]
  },
  {
   "cell_type": "code",
   "execution_count": 115,
   "metadata": {},
   "outputs": [
    {
     "data": {
      "text/html": [
       "<div>\n",
       "<style scoped>\n",
       "    .dataframe tbody tr th:only-of-type {\n",
       "        vertical-align: middle;\n",
       "    }\n",
       "\n",
       "    .dataframe tbody tr th {\n",
       "        vertical-align: top;\n",
       "    }\n",
       "\n",
       "    .dataframe thead th {\n",
       "        text-align: right;\n",
       "    }\n",
       "</style>\n",
       "<table border=\"1\" class=\"dataframe\">\n",
       "  <thead>\n",
       "    <tr style=\"text-align: right;\">\n",
       "      <th>property_type</th>\n",
       "      <th>1</th>\n",
       "      <th>2</th>\n",
       "      <th>3</th>\n",
       "      <th>All</th>\n",
       "    </tr>\n",
       "    <tr>\n",
       "      <th>loan_type</th>\n",
       "      <th></th>\n",
       "      <th></th>\n",
       "      <th></th>\n",
       "      <th></th>\n",
       "    </tr>\n",
       "  </thead>\n",
       "  <tbody>\n",
       "    <tr>\n",
       "      <td>1</td>\n",
       "      <td>0.51</td>\n",
       "      <td>0.20</td>\n",
       "      <td>0.66</td>\n",
       "      <td>0.50</td>\n",
       "    </tr>\n",
       "    <tr>\n",
       "      <td>2</td>\n",
       "      <td>0.51</td>\n",
       "      <td>0.36</td>\n",
       "      <td>0.78</td>\n",
       "      <td>0.51</td>\n",
       "    </tr>\n",
       "    <tr>\n",
       "      <td>3</td>\n",
       "      <td>0.52</td>\n",
       "      <td>0.44</td>\n",
       "      <td>NaN</td>\n",
       "      <td>0.52</td>\n",
       "    </tr>\n",
       "    <tr>\n",
       "      <td>4</td>\n",
       "      <td>0.56</td>\n",
       "      <td>0.28</td>\n",
       "      <td>NaN</td>\n",
       "      <td>0.56</td>\n",
       "    </tr>\n",
       "    <tr>\n",
       "      <td>All</td>\n",
       "      <td>0.51</td>\n",
       "      <td>0.23</td>\n",
       "      <td>0.66</td>\n",
       "      <td>0.50</td>\n",
       "    </tr>\n",
       "  </tbody>\n",
       "</table>\n",
       "</div>"
      ],
      "text/plain": [
       "property_type     1     2     3   All\n",
       "loan_type                            \n",
       "1              0.51  0.20  0.66  0.50\n",
       "2              0.51  0.36  0.78  0.51\n",
       "3              0.52  0.44   NaN  0.52\n",
       "4              0.56  0.28   NaN  0.56\n",
       "All            0.51  0.23  0.66  0.50"
      ]
     },
     "execution_count": 115,
     "metadata": {},
     "output_type": "execute_result"
    }
   ],
   "source": [
    "pd.pivot_table(df_merge, index='loan_type', columns='property_type', values='accepted', aggfunc=np.mean, margins=True).apply(lambda x: np.round(x, 2))"
   ]
  },
  {
   "cell_type": "code",
   "execution_count": 116,
   "metadata": {},
   "outputs": [
    {
     "data": {
      "text/html": [
       "<div>\n",
       "<style scoped>\n",
       "    .dataframe tbody tr th:only-of-type {\n",
       "        vertical-align: middle;\n",
       "    }\n",
       "\n",
       "    .dataframe tbody tr th {\n",
       "        vertical-align: top;\n",
       "    }\n",
       "\n",
       "    .dataframe thead th {\n",
       "        text-align: right;\n",
       "    }\n",
       "</style>\n",
       "<table border=\"1\" class=\"dataframe\">\n",
       "  <thead>\n",
       "    <tr style=\"text-align: right;\">\n",
       "      <th></th>\n",
       "      <th>accepted</th>\n",
       "    </tr>\n",
       "    <tr>\n",
       "      <th>occupancy</th>\n",
       "      <th></th>\n",
       "    </tr>\n",
       "  </thead>\n",
       "  <tbody>\n",
       "    <tr>\n",
       "      <td>1</td>\n",
       "      <td>0.50</td>\n",
       "    </tr>\n",
       "    <tr>\n",
       "      <td>2</td>\n",
       "      <td>0.52</td>\n",
       "    </tr>\n",
       "    <tr>\n",
       "      <td>3</td>\n",
       "      <td>0.63</td>\n",
       "    </tr>\n",
       "    <tr>\n",
       "      <td>All</td>\n",
       "      <td>0.50</td>\n",
       "    </tr>\n",
       "  </tbody>\n",
       "</table>\n",
       "</div>"
      ],
      "text/plain": [
       "           accepted\n",
       "occupancy          \n",
       "1              0.50\n",
       "2              0.52\n",
       "3              0.63\n",
       "All            0.50"
      ]
     },
     "execution_count": 116,
     "metadata": {},
     "output_type": "execute_result"
    }
   ],
   "source": [
    "pd.pivot_table(df_merge, index='occupancy', values='accepted', aggfunc=np.mean, margins=True,).apply(lambda x: np.round(x, 2))"
   ]
  },
  {
   "cell_type": "code",
   "execution_count": 117,
   "metadata": {},
   "outputs": [
    {
     "data": {
      "text/html": [
       "<div>\n",
       "<style scoped>\n",
       "    .dataframe tbody tr th:only-of-type {\n",
       "        vertical-align: middle;\n",
       "    }\n",
       "\n",
       "    .dataframe tbody tr th {\n",
       "        vertical-align: top;\n",
       "    }\n",
       "\n",
       "    .dataframe thead th {\n",
       "        text-align: right;\n",
       "    }\n",
       "</style>\n",
       "<table border=\"1\" class=\"dataframe\">\n",
       "  <thead>\n",
       "    <tr style=\"text-align: right;\">\n",
       "      <th></th>\n",
       "      <th>accepted</th>\n",
       "    </tr>\n",
       "    <tr>\n",
       "      <th>applicant_ethnicity</th>\n",
       "      <th></th>\n",
       "    </tr>\n",
       "  </thead>\n",
       "  <tbody>\n",
       "    <tr>\n",
       "      <td>1</td>\n",
       "      <td>0.43</td>\n",
       "    </tr>\n",
       "    <tr>\n",
       "      <td>2</td>\n",
       "      <td>0.52</td>\n",
       "    </tr>\n",
       "    <tr>\n",
       "      <td>3</td>\n",
       "      <td>0.40</td>\n",
       "    </tr>\n",
       "    <tr>\n",
       "      <td>4</td>\n",
       "      <td>0.79</td>\n",
       "    </tr>\n",
       "    <tr>\n",
       "      <td>All</td>\n",
       "      <td>0.50</td>\n",
       "    </tr>\n",
       "  </tbody>\n",
       "</table>\n",
       "</div>"
      ],
      "text/plain": [
       "                     accepted\n",
       "applicant_ethnicity          \n",
       "1                        0.43\n",
       "2                        0.52\n",
       "3                        0.40\n",
       "4                        0.79\n",
       "All                      0.50"
      ]
     },
     "execution_count": 117,
     "metadata": {},
     "output_type": "execute_result"
    }
   ],
   "source": [
    "pd.pivot_table(df_merge, index='applicant_ethnicity', values='accepted', aggfunc=np.mean, margins=True).apply(lambda x: np.round(x, 2))"
   ]
  },
  {
   "cell_type": "code",
   "execution_count": 118,
   "metadata": {},
   "outputs": [
    {
     "data": {
      "text/html": [
       "<div>\n",
       "<style scoped>\n",
       "    .dataframe tbody tr th:only-of-type {\n",
       "        vertical-align: middle;\n",
       "    }\n",
       "\n",
       "    .dataframe tbody tr th {\n",
       "        vertical-align: top;\n",
       "    }\n",
       "\n",
       "    .dataframe thead th {\n",
       "        text-align: right;\n",
       "    }\n",
       "</style>\n",
       "<table border=\"1\" class=\"dataframe\">\n",
       "  <thead>\n",
       "    <tr style=\"text-align: right;\">\n",
       "      <th></th>\n",
       "      <th>accepted</th>\n",
       "    </tr>\n",
       "    <tr>\n",
       "      <th>applicant_race</th>\n",
       "      <th></th>\n",
       "    </tr>\n",
       "  </thead>\n",
       "  <tbody>\n",
       "    <tr>\n",
       "      <td>1</td>\n",
       "      <td>0.34</td>\n",
       "    </tr>\n",
       "    <tr>\n",
       "      <td>2</td>\n",
       "      <td>0.54</td>\n",
       "    </tr>\n",
       "    <tr>\n",
       "      <td>3</td>\n",
       "      <td>0.33</td>\n",
       "    </tr>\n",
       "    <tr>\n",
       "      <td>4</td>\n",
       "      <td>0.42</td>\n",
       "    </tr>\n",
       "    <tr>\n",
       "      <td>5</td>\n",
       "      <td>0.53</td>\n",
       "    </tr>\n",
       "    <tr>\n",
       "      <td>6</td>\n",
       "      <td>0.40</td>\n",
       "    </tr>\n",
       "    <tr>\n",
       "      <td>7</td>\n",
       "      <td>0.79</td>\n",
       "    </tr>\n",
       "    <tr>\n",
       "      <td>All</td>\n",
       "      <td>0.50</td>\n",
       "    </tr>\n",
       "  </tbody>\n",
       "</table>\n",
       "</div>"
      ],
      "text/plain": [
       "                accepted\n",
       "applicant_race          \n",
       "1                   0.34\n",
       "2                   0.54\n",
       "3                   0.33\n",
       "4                   0.42\n",
       "5                   0.53\n",
       "6                   0.40\n",
       "7                   0.79\n",
       "All                 0.50"
      ]
     },
     "execution_count": 118,
     "metadata": {},
     "output_type": "execute_result"
    }
   ],
   "source": [
    "pd.pivot_table(df_merge, index='applicant_race', values='accepted', aggfunc=np.mean, margins=True).apply(lambda x: np.round(x, 2))"
   ]
  },
  {
   "cell_type": "code",
   "execution_count": 119,
   "metadata": {},
   "outputs": [
    {
     "data": {
      "text/html": [
       "<div>\n",
       "<style scoped>\n",
       "    .dataframe tbody tr th:only-of-type {\n",
       "        vertical-align: middle;\n",
       "    }\n",
       "\n",
       "    .dataframe tbody tr th {\n",
       "        vertical-align: top;\n",
       "    }\n",
       "\n",
       "    .dataframe thead th {\n",
       "        text-align: right;\n",
       "    }\n",
       "</style>\n",
       "<table border=\"1\" class=\"dataframe\">\n",
       "  <thead>\n",
       "    <tr style=\"text-align: right;\">\n",
       "      <th></th>\n",
       "      <th>accepted</th>\n",
       "    </tr>\n",
       "    <tr>\n",
       "      <th>applicant_sex</th>\n",
       "      <th></th>\n",
       "    </tr>\n",
       "  </thead>\n",
       "  <tbody>\n",
       "    <tr>\n",
       "      <td>1</td>\n",
       "      <td>0.52</td>\n",
       "    </tr>\n",
       "    <tr>\n",
       "      <td>2</td>\n",
       "      <td>0.47</td>\n",
       "    </tr>\n",
       "    <tr>\n",
       "      <td>3</td>\n",
       "      <td>0.41</td>\n",
       "    </tr>\n",
       "    <tr>\n",
       "      <td>4</td>\n",
       "      <td>0.79</td>\n",
       "    </tr>\n",
       "    <tr>\n",
       "      <td>All</td>\n",
       "      <td>0.50</td>\n",
       "    </tr>\n",
       "  </tbody>\n",
       "</table>\n",
       "</div>"
      ],
      "text/plain": [
       "               accepted\n",
       "applicant_sex          \n",
       "1                  0.52\n",
       "2                  0.47\n",
       "3                  0.41\n",
       "4                  0.79\n",
       "All                0.50"
      ]
     },
     "execution_count": 119,
     "metadata": {},
     "output_type": "execute_result"
    }
   ],
   "source": [
    "pd.pivot_table(df_merge, index='applicant_sex', values='accepted', aggfunc=np.mean, margins=True).apply(lambda x: np.round(x, 2))"
   ]
  },
  {
   "cell_type": "code",
   "execution_count": 120,
   "metadata": {},
   "outputs": [
    {
     "data": {
      "text/html": [
       "<div>\n",
       "<style scoped>\n",
       "    .dataframe tbody tr th:only-of-type {\n",
       "        vertical-align: middle;\n",
       "    }\n",
       "\n",
       "    .dataframe tbody tr th {\n",
       "        vertical-align: top;\n",
       "    }\n",
       "\n",
       "    .dataframe thead th {\n",
       "        text-align: right;\n",
       "    }\n",
       "</style>\n",
       "<table border=\"1\" class=\"dataframe\">\n",
       "  <thead>\n",
       "    <tr style=\"text-align: right;\">\n",
       "      <th></th>\n",
       "      <th>accepted</th>\n",
       "    </tr>\n",
       "    <tr>\n",
       "      <th>co_applicant</th>\n",
       "      <th></th>\n",
       "    </tr>\n",
       "  </thead>\n",
       "  <tbody>\n",
       "    <tr>\n",
       "      <td>False</td>\n",
       "      <td>0.46</td>\n",
       "    </tr>\n",
       "    <tr>\n",
       "      <td>True</td>\n",
       "      <td>0.56</td>\n",
       "    </tr>\n",
       "    <tr>\n",
       "      <td>All</td>\n",
       "      <td>0.50</td>\n",
       "    </tr>\n",
       "  </tbody>\n",
       "</table>\n",
       "</div>"
      ],
      "text/plain": [
       "              accepted\n",
       "co_applicant          \n",
       "False             0.46\n",
       "True              0.56\n",
       "All               0.50"
      ]
     },
     "execution_count": 120,
     "metadata": {},
     "output_type": "execute_result"
    }
   ],
   "source": [
    "pd.pivot_table(df_merge, index='co_applicant', values='accepted', aggfunc=np.mean, margins=True).apply(lambda x: np.round(x, 2))"
   ]
  },
  {
   "cell_type": "markdown",
   "metadata": {},
   "source": [
    "## VII. Data cleaning and feature engineering"
   ]
  },
  {
   "cell_type": "code",
   "execution_count": 121,
   "metadata": {},
   "outputs": [],
   "source": [
    "def data_cleaning(X):\n",
    "    X= X.fillna(X.median())\n",
    "    X = X[X['loan_amount'] <= 5000]\n",
    "    X = X[X['applicant_income'] <= 2500]\n",
    "    return X"
   ]
  },
  {
   "cell_type": "code",
   "execution_count": 122,
   "metadata": {},
   "outputs": [],
   "source": [
    "def feature_eng(X):\n",
    "    X['minority_population'] = X['population'] * X['minority_population_pct']\n",
    "    X['tract_to_msa_md_income'] = X['ffiecmedian_family_income'] * X['tract_to_msa_md_income_pct']\n",
    "    X['loan/income'] = X['loan_amount'] / X['applicant_income']\n",
    "    \n",
    "    return X"
   ]
  },
  {
   "cell_type": "code",
   "execution_count": 123,
   "metadata": {},
   "outputs": [],
   "source": [
    "new_cols = ['minority_population', 'tract_to_msa_md_income', 'loan/income']"
   ]
  },
  {
   "cell_type": "code",
   "execution_count": 124,
   "metadata": {},
   "outputs": [],
   "source": [
    "X_train = data_cleaning(X_train)\n",
    "X_train = feature_eng(X_train)"
   ]
  },
  {
   "cell_type": "code",
   "execution_count": 125,
   "metadata": {},
   "outputs": [],
   "source": [
    "y_train = pd.read_csv('train_labels.csv')\n",
    "y_train = y_train.loc[X_train.index, :]\n",
    "df_merge = pd.merge(X_train, y_train, on='row_id')\n",
    "y_train = y_train['accepted']"
   ]
  },
  {
   "cell_type": "markdown",
   "metadata": {},
   "source": [
    "## VIII. Machine learning - training/validating (Random Forest model in scikit-learn)"
   ]
  },
  {
   "cell_type": "code",
   "execution_count": 33,
   "metadata": {},
   "outputs": [],
   "source": [
    "X_train = X_train.drop('row_id', axis=1)"
   ]
  },
  {
   "cell_type": "code",
   "execution_count": 34,
   "metadata": {},
   "outputs": [],
   "source": [
    "bool_cols = ['co_applicant']"
   ]
  },
  {
   "cell_type": "code",
   "execution_count": 35,
   "metadata": {},
   "outputs": [],
   "source": [
    "from sklearn.ensemble import RandomForestClassifier\n",
    "from sklearn.model_selection import cross_validate"
   ]
  },
  {
   "cell_type": "code",
   "execution_count": 36,
   "metadata": {},
   "outputs": [],
   "source": [
    "features = num_cols + cat_cols + new_cols\n",
    "for col in ['msa_md', 'state_code', 'county_code']:\n",
    "    features.remove(col)"
   ]
  },
  {
   "cell_type": "code",
   "execution_count": 37,
   "metadata": {},
   "outputs": [
    {
     "name": "stderr",
     "output_type": "stream",
     "text": [
      "D:\\Softwares\\Anaconda3\\lib\\site-packages\\sklearn\\model_selection\\_split.py:1978: FutureWarning: The default value of cv will change from 3 to 5 in version 0.22. Specify it explicitly to silence this warning.\n",
      "  warnings.warn(CV_WARNING, FutureWarning)\n"
     ]
    }
   ],
   "source": [
    "rf = RandomForestClassifier(n_estimators=30, max_depth=15, max_features=15, criterion='entropy', random_state=1)\n",
    "cv = cross_validate(rf, X_train[features], y_train, n_jobs=3, scoring='roc_auc')"
   ]
  },
  {
   "cell_type": "code",
   "execution_count": 38,
   "metadata": {},
   "outputs": [
    {
     "data": {
      "text/plain": [
       "array([0.76660869, 0.76829622, 0.76689406])"
      ]
     },
     "execution_count": 38,
     "metadata": {},
     "output_type": "execute_result"
    }
   ],
   "source": [
    "cv['test_score']"
   ]
  },
  {
   "cell_type": "code",
   "execution_count": 39,
   "metadata": {},
   "outputs": [
    {
     "data": {
      "text/plain": [
       "RandomForestClassifier(bootstrap=True, class_weight=None, criterion='entropy',\n",
       "                       max_depth=15, max_features=15, max_leaf_nodes=None,\n",
       "                       min_impurity_decrease=0.0, min_impurity_split=None,\n",
       "                       min_samples_leaf=1, min_samples_split=2,\n",
       "                       min_weight_fraction_leaf=0.0, n_estimators=30,\n",
       "                       n_jobs=None, oob_score=False, random_state=1, verbose=0,\n",
       "                       warm_start=False)"
      ]
     },
     "execution_count": 39,
     "metadata": {},
     "output_type": "execute_result"
    }
   ],
   "source": [
    "rf.fit(X_train[features], y_train)"
   ]
  },
  {
   "cell_type": "code",
   "execution_count": 40,
   "metadata": {},
   "outputs": [
    {
     "data": {
      "text/plain": [
       "Text(0.5, 1.0, '\\n Varialbe Importance \\n')"
      ]
     },
     "execution_count": 40,
     "metadata": {},
     "output_type": "execute_result"
    },
    {
     "data": {
      "image/png": "[encoded data removed]",
      "text/plain": [
       "<Figure size 1008x576 with 1 Axes>"
      ]
     },
     "metadata": {
      "needs_background": "light"
     },
     "output_type": "display_data"
    }
   ],
   "source": [
    "feature_imp = pd.DataFrame(columns=['Feature', 'Importance'])\n",
    "feature_imp['Feature'] = features\n",
    "feature_imp['Importance'] = rf.feature_importances_ / np.max(rf.feature_importances_)\n",
    "\n",
    "feature_imp = feature_imp.sort_values(by='Importance', ascending=True).reindex()\n",
    "feature_imp.index = feature_imp['Feature']\n",
    "feature_imp = feature_imp.drop('Feature', axis=1)\n",
    "feature_imp.plot(kind='barh', figsize=(14,8))\n",
    "plt.title('\\n Varialbe Importance \\n', size=18)"
   ]
  },
  {
   "cell_type": "markdown",
   "metadata": {},
   "source": [
    "## IX. Machine learning - training/validating (AutoML in h2o)"
   ]
  },
  {
   "cell_type": "code",
   "execution_count": 41,
   "metadata": {},
   "outputs": [
    {
     "name": "stdout",
     "output_type": "stream",
     "text": [
      "Checking whether there is an H2O instance running at http://localhost:54321 ..... not found.\n",
      "Attempting to start a local H2O server...\n",
      "; OpenJDK 64-Bit Server VM (build 12.0.1+12, mixed mode, sharing)\n",
      "  Starting server from D:\\Softwares\\Anaconda3\\lib\\site-packages\\h2o\\backend\\bin\\h2o.jar\n",
      "  Ice root: D:\\Temp\\tmpix669_4k\n",
      "  JVM stdout: D:\\Temp\\tmpix669_4k\\h2o_Chris_Wu_started_from_python.out\n",
      "  JVM stderr: D:\\Temp\\tmpix669_4k\\h2o_Chris_Wu_started_from_python.err\n",
      "  Server is running at http://127.0.0.1:54321\n",
      "Connecting to H2O server at http://127.0.0.1:54321 ... successful.\n"
     ]
    },
    {
     "data": {
      "text/html": [
       "<div style=\"overflow:auto\"><table style=\"width:50%\"><tr><td>H2O cluster uptime:</td>\n",
       "<td>04 secs</td></tr>\n",
       "<tr><td>H2O cluster timezone:</td>\n",
       "<td>Asia/Taipei</td></tr>\n",
       "<tr><td>H2O data parsing timezone:</td>\n",
       "<td>UTC</td></tr>\n",
       "<tr><td>H2O cluster version:</td>\n",
       "<td>3.26.0.2</td></tr>\n",
       "<tr><td>H2O cluster version age:</td>\n",
       "<td>2 months and 16 days </td></tr>\n",
       "<tr><td>H2O cluster name:</td>\n",
       "<td>H2O_from_python_Chris_Wu_tuycy9</td></tr>\n",
       "<tr><td>H2O cluster total nodes:</td>\n",
       "<td>1</td></tr>\n",
       "<tr><td>H2O cluster free memory:</td>\n",
       "<td>1.924 Gb</td></tr>\n",
       "<tr><td>H2O cluster total cores:</td>\n",
       "<td>4</td></tr>\n",
       "<tr><td>H2O cluster allowed cores:</td>\n",
       "<td>4</td></tr>\n",
       "<tr><td>H2O cluster status:</td>\n",
       "<td>accepting new members, healthy</td></tr>\n",
       "<tr><td>H2O connection url:</td>\n",
       "<td>http://127.0.0.1:54321</td></tr>\n",
       "<tr><td>H2O connection proxy:</td>\n",
       "<td>None</td></tr>\n",
       "<tr><td>H2O internal security:</td>\n",
       "<td>False</td></tr>\n",
       "<tr><td>H2O API Extensions:</td>\n",
       "<td>Amazon S3, Algos, AutoML, Core V3, Core V4</td></tr>\n",
       "<tr><td>Python version:</td>\n",
       "<td>3.7.3 final</td></tr></table></div>"
      ],
      "text/plain": [
       "--------------------------  ------------------------------------------\n",
       "H2O cluster uptime:         04 secs\n",
       "H2O cluster timezone:       Asia/Taipei\n",
       "H2O data parsing timezone:  UTC\n",
       "H2O cluster version:        3.26.0.2\n",
       "H2O cluster version age:    2 months and 16 days\n",
       "H2O cluster name:           H2O_from_python_Chris_Wu_tuycy9\n",
       "H2O cluster total nodes:    1\n",
       "H2O cluster free memory:    1.924 Gb\n",
       "H2O cluster total cores:    4\n",
       "H2O cluster allowed cores:  4\n",
       "H2O cluster status:         accepting new members, healthy\n",
       "H2O connection url:         http://127.0.0.1:54321\n",
       "H2O connection proxy:\n",
       "H2O internal security:      False\n",
       "H2O API Extensions:         Amazon S3, Algos, AutoML, Core V3, Core V4\n",
       "Python version:             3.7.3 final\n",
       "--------------------------  ------------------------------------------"
      ]
     },
     "metadata": {},
     "output_type": "display_data"
    }
   ],
   "source": [
    "import h2o\n",
    "\n",
    "h2o.init()"
   ]
  },
  {
   "cell_type": "code",
   "execution_count": 42,
   "metadata": {},
   "outputs": [
    {
     "name": "stdout",
     "output_type": "stream",
     "text": [
      "Parse progress: |█████████████████████████████████████████████████████████| 100%\n"
     ]
    }
   ],
   "source": [
    "df_h2o = h2o.H2OFrame(df_merge)"
   ]
  },
  {
   "cell_type": "code",
   "execution_count": 43,
   "metadata": {},
   "outputs": [],
   "source": [
    "selected_cat_cols = ['loan_purpose', 'preapproval', 'property_type', 'occupancy', 'applicant_ethnicity', 'applicant_race', 'applicant_sex', 'accepted']\n",
    "df_h2o[selected_cat_cols] = df_h2o[selected_cat_cols].asfactor()"
   ]
  },
  {
   "cell_type": "code",
   "execution_count": 70,
   "metadata": {},
   "outputs": [
    {
     "name": "stdout",
     "output_type": "stream",
     "text": [
      "AutoML progress: |████████████████████████████████████████████████████████| 100%\n"
     ]
    }
   ],
   "source": [
    "from h2o.automl import H2OAutoML\n",
    "aml = H2OAutoML(max_models=20, seed=1, nfolds=3, include_algos=['GBM'])\n",
    "aml.train(x=features, y='accepted', training_frame=df_h2o)"
   ]
  },
  {
   "cell_type": "code",
   "execution_count": 74,
   "metadata": {},
   "outputs": [
    {
     "data": {
      "text/html": [
       "<table>\n",
       "<thead>\n",
       "<tr><th>model_id                                           </th><th style=\"text-align: right;\">     auc</th><th style=\"text-align: right;\">  logloss</th><th style=\"text-align: right;\">  mean_per_class_error</th><th style=\"text-align: right;\">    rmse</th><th style=\"text-align: right;\">     mse</th></tr>\n",
       "</thead>\n",
       "<tbody>\n",
       "<tr><td>StackedEnsemble_AllModels_AutoML_20191013_174042   </td><td style=\"text-align: right;\">0.791093</td><td style=\"text-align: right;\"> 0.547064</td><td style=\"text-align: right;\">              0.296858</td><td style=\"text-align: right;\">0.430379</td><td style=\"text-align: right;\">0.185226</td></tr>\n",
       "<tr><td>GBM_grid_1_AutoML_20191013_174042_model_2          </td><td style=\"text-align: right;\">0.790254</td><td style=\"text-align: right;\"> 0.545113</td><td style=\"text-align: right;\">              0.298825</td><td style=\"text-align: right;\">0.430226</td><td style=\"text-align: right;\">0.185095</td></tr>\n",
       "<tr><td>StackedEnsemble_BestOfFamily_AutoML_20191013_174042</td><td style=\"text-align: right;\">0.79025 </td><td style=\"text-align: right;\"> 0.548159</td><td style=\"text-align: right;\">              0.303013</td><td style=\"text-align: right;\">0.430822</td><td style=\"text-align: right;\">0.185608</td></tr>\n",
       "<tr><td>GBM_5_AutoML_20191013_174042                       </td><td style=\"text-align: right;\">0.786268</td><td style=\"text-align: right;\"> 0.548041</td><td style=\"text-align: right;\">              0.302577</td><td style=\"text-align: right;\">0.431811</td><td style=\"text-align: right;\">0.18646 </td></tr>\n",
       "<tr><td>GBM_5_AutoML_20191013_184413                       </td><td style=\"text-align: right;\">0.785497</td><td style=\"text-align: right;\"> 0.54925 </td><td style=\"text-align: right;\">              0.302788</td><td style=\"text-align: right;\">0.432299</td><td style=\"text-align: right;\">0.186882</td></tr>\n",
       "<tr><td>GBM_4_AutoML_20191013_184413                       </td><td style=\"text-align: right;\">0.783768</td><td style=\"text-align: right;\"> 0.551008</td><td style=\"text-align: right;\">              0.304167</td><td style=\"text-align: right;\">0.433111</td><td style=\"text-align: right;\">0.187585</td></tr>\n",
       "<tr><td>GBM_4_AutoML_20191013_174042                       </td><td style=\"text-align: right;\">0.783723</td><td style=\"text-align: right;\"> 0.551455</td><td style=\"text-align: right;\">              0.303765</td><td style=\"text-align: right;\">0.433222</td><td style=\"text-align: right;\">0.187681</td></tr>\n",
       "<tr><td>GBM_3_AutoML_20191013_184413                       </td><td style=\"text-align: right;\">0.7819  </td><td style=\"text-align: right;\"> 0.553155</td><td style=\"text-align: right;\">              0.306258</td><td style=\"text-align: right;\">0.434044</td><td style=\"text-align: right;\">0.188394</td></tr>\n",
       "<tr><td>GBM_3_AutoML_20191013_174042                       </td><td style=\"text-align: right;\">0.781617</td><td style=\"text-align: right;\"> 0.553674</td><td style=\"text-align: right;\">              0.304527</td><td style=\"text-align: right;\">0.434244</td><td style=\"text-align: right;\">0.188568</td></tr>\n",
       "<tr><td>GBM_2_AutoML_20191013_184413                       </td><td style=\"text-align: right;\">0.780493</td><td style=\"text-align: right;\"> 0.554898</td><td style=\"text-align: right;\">              0.305937</td><td style=\"text-align: right;\">0.434796</td><td style=\"text-align: right;\">0.189047</td></tr>\n",
       "</tbody>\n",
       "</table>"
      ]
     },
     "metadata": {},
     "output_type": "display_data"
    },
    {
     "data": {
      "text/plain": []
     },
     "execution_count": 74,
     "metadata": {},
     "output_type": "execute_result"
    }
   ],
   "source": [
    "aml.leaderboard"
   ]
  },
  {
   "cell_type": "code",
   "execution_count": 79,
   "metadata": {},
   "outputs": [
    {
     "name": "stdout",
     "output_type": "stream",
     "text": [
      "Model Details\n",
      "=============\n",
      "H2OStackedEnsembleEstimator :  Stacked Ensemble\n",
      "Model Key:  StackedEnsemble_AllModels_AutoML_20191013_174042\n",
      "\n",
      "No model summary for this model\n",
      "\n",
      "ModelMetricsBinomialGLM: stackedensemble\n",
      "** Reported on train data. **\n",
      "\n",
      "MSE: 0.15704620751267992\n",
      "RMSE: 0.39629055945439823\n",
      "LogLoss: 0.4808514914626093\n",
      "Null degrees of freedom: 499461\n",
      "Residual degrees of freedom: 499457\n",
      "Null deviance: 692401.3503175952\n",
      "Residual deviance: 480334.09525779553\n",
      "AIC: 480344.09525779553\n",
      "AUC: 0.8552572605554976\n",
      "pr_auc: 0.8419671067287355\n",
      "Gini: 0.7105145211109951\n",
      "Confusion Matrix (Act/Pred) for max f1 @ threshold = 0.4177157168621845: \n"
     ]
    },
    {
     "data": {
      "text/html": [
       "<div style=\"overflow:auto\"><table style=\"width:50%\"><tr><td><b></b></td>\n",
       "<td><b>0</b></td>\n",
       "<td><b>1</b></td>\n",
       "<td><b>Error</b></td>\n",
       "<td><b>Rate</b></td></tr>\n",
       "<tr><td>0</td>\n",
       "<td>157060.0</td>\n",
       "<td>92649.0</td>\n",
       "<td>0.371</td>\n",
       "<td> (92649.0/249709.0)</td></tr>\n",
       "<tr><td>1</td>\n",
       "<td>26720.0</td>\n",
       "<td>223033.0</td>\n",
       "<td>0.107</td>\n",
       "<td> (26720.0/249753.0)</td></tr>\n",
       "<tr><td>Total</td>\n",
       "<td>183780.0</td>\n",
       "<td>315682.0</td>\n",
       "<td>0.239</td>\n",
       "<td> (119369.0/499462.0)</td></tr></table></div>"
      ],
      "text/plain": [
       "       0       1       Error    Rate\n",
       "-----  ------  ------  -------  -------------------\n",
       "0      157060  92649   0.371    (92649.0/249709.0)\n",
       "1      26720   223033  0.107    (26720.0/249753.0)\n",
       "Total  183780  315682  0.239    (119369.0/499462.0)"
      ]
     },
     "metadata": {},
     "output_type": "display_data"
    },
    {
     "name": "stdout",
     "output_type": "stream",
     "text": [
      "Maximum Metrics: Maximum metrics at their respective thresholds\n",
      "\n"
     ]
    },
    {
     "data": {
      "text/html": [
       "<div style=\"overflow:auto\"><table style=\"width:50%\"><tr><td><b>metric</b></td>\n",
       "<td><b>threshold</b></td>\n",
       "<td><b>value</b></td>\n",
       "<td><b>idx</b></td></tr>\n",
       "<tr><td>max f1</td>\n",
       "<td>0.4177157</td>\n",
       "<td>0.7888900</td>\n",
       "<td>236.0</td></tr>\n",
       "<tr><td>max f2</td>\n",
       "<td>0.1977385</td>\n",
       "<td>0.8752460</td>\n",
       "<td>328.0</td></tr>\n",
       "<tr><td>max f0point5</td>\n",
       "<td>0.6171470</td>\n",
       "<td>0.7748177</td>\n",
       "<td>144.0</td></tr>\n",
       "<tr><td>max accuracy</td>\n",
       "<td>0.5198099</td>\n",
       "<td>0.7708434</td>\n",
       "<td>190.0</td></tr>\n",
       "<tr><td>max precision</td>\n",
       "<td>0.9065167</td>\n",
       "<td>1.0</td>\n",
       "<td>0.0</td></tr>\n",
       "<tr><td>max recall</td>\n",
       "<td>0.0651925</td>\n",
       "<td>1.0</td>\n",
       "<td>397.0</td></tr>\n",
       "<tr><td>max specificity</td>\n",
       "<td>0.9065167</td>\n",
       "<td>1.0</td>\n",
       "<td>0.0</td></tr>\n",
       "<tr><td>max absolute_mcc</td>\n",
       "<td>0.4747663</td>\n",
       "<td>0.5456837</td>\n",
       "<td>211.0</td></tr>\n",
       "<tr><td>max min_per_class_accuracy</td>\n",
       "<td>0.5565582</td>\n",
       "<td>0.7682703</td>\n",
       "<td>172.0</td></tr>\n",
       "<tr><td>max mean_per_class_accuracy</td>\n",
       "<td>0.5198099</td>\n",
       "<td>0.7708399</td>\n",
       "<td>190.0</td></tr></table></div>"
      ],
      "text/plain": [
       "metric                       threshold    value     idx\n",
       "---------------------------  -----------  --------  -----\n",
       "max f1                       0.417716     0.78889   236\n",
       "max f2                       0.197739     0.875246  328\n",
       "max f0point5                 0.617147     0.774818  144\n",
       "max accuracy                 0.51981      0.770843  190\n",
       "max precision                0.906517     1         0\n",
       "max recall                   0.0651925    1         397\n",
       "max specificity              0.906517     1         0\n",
       "max absolute_mcc             0.474766     0.545684  211\n",
       "max min_per_class_accuracy   0.556558     0.76827   172\n",
       "max mean_per_class_accuracy  0.51981      0.77084   190"
      ]
     },
     "metadata": {},
     "output_type": "display_data"
    },
    {
     "name": "stdout",
     "output_type": "stream",
     "text": [
      "Gains/Lift Table: Avg response rate: 50.00 %, avg score: 50.10 %\n",
      "\n"
     ]
    },
    {
     "data": {
      "text/html": [
       "<div style=\"overflow:auto\"><table style=\"width:50%\"><tr><td><b></b></td>\n",
       "<td><b>group</b></td>\n",
       "<td><b>cumulative_data_fraction</b></td>\n",
       "<td><b>lower_threshold</b></td>\n",
       "<td><b>lift</b></td>\n",
       "<td><b>cumulative_lift</b></td>\n",
       "<td><b>response_rate</b></td>\n",
       "<td><b>score</b></td>\n",
       "<td><b>cumulative_response_rate</b></td>\n",
       "<td><b>cumulative_score</b></td>\n",
       "<td><b>capture_rate</b></td>\n",
       "<td><b>cumulative_capture_rate</b></td>\n",
       "<td><b>gain</b></td>\n",
       "<td><b>cumulative_gain</b></td></tr>\n",
       "<tr><td></td>\n",
       "<td>1</td>\n",
       "<td>0.0100008</td>\n",
       "<td>0.8753516</td>\n",
       "<td>1.9802059</td>\n",
       "<td>1.9802059</td>\n",
       "<td>0.9901902</td>\n",
       "<td>0.8861380</td>\n",
       "<td>0.9901902</td>\n",
       "<td>0.8861380</td>\n",
       "<td>0.0198036</td>\n",
       "<td>0.0198036</td>\n",
       "<td>98.0205935</td>\n",
       "<td>98.0205935</td></tr>\n",
       "<tr><td></td>\n",
       "<td>2</td>\n",
       "<td>0.0200015</td>\n",
       "<td>0.8634310</td>\n",
       "<td>1.9445734</td>\n",
       "<td>1.9623897</td>\n",
       "<td>0.9723724</td>\n",
       "<td>0.8689974</td>\n",
       "<td>0.9812813</td>\n",
       "<td>0.8775677</td>\n",
       "<td>0.0194472</td>\n",
       "<td>0.0392508</td>\n",
       "<td>94.4573438</td>\n",
       "<td>96.2389686</td></tr>\n",
       "<tr><td></td>\n",
       "<td>3</td>\n",
       "<td>0.0300003</td>\n",
       "<td>0.8544022</td>\n",
       "<td>1.9189339</td>\n",
       "<td>1.9479063</td>\n",
       "<td>0.9595515</td>\n",
       "<td>0.8587858</td>\n",
       "<td>0.9740390</td>\n",
       "<td>0.8713079</td>\n",
       "<td>0.0191870</td>\n",
       "<td>0.0584377</td>\n",
       "<td>91.8933875</td>\n",
       "<td>94.7906349</td></tr>\n",
       "<tr><td></td>\n",
       "<td>4</td>\n",
       "<td>0.0400010</td>\n",
       "<td>0.8470039</td>\n",
       "<td>1.8969300</td>\n",
       "<td>1.9351616</td>\n",
       "<td>0.9485485</td>\n",
       "<td>0.8506012</td>\n",
       "<td>0.9676660</td>\n",
       "<td>0.8661310</td>\n",
       "<td>0.0189707</td>\n",
       "<td>0.0774085</td>\n",
       "<td>89.6929987</td>\n",
       "<td>93.5161621</td></tr>\n",
       "<tr><td></td>\n",
       "<td>5</td>\n",
       "<td>0.0500018</td>\n",
       "<td>0.8403827</td>\n",
       "<td>1.8833176</td>\n",
       "<td>1.9247924</td>\n",
       "<td>0.9417417</td>\n",
       "<td>0.8436723</td>\n",
       "<td>0.9624810</td>\n",
       "<td>0.8616391</td>\n",
       "<td>0.0188346</td>\n",
       "<td>0.0962431</td>\n",
       "<td>88.3317573</td>\n",
       "<td>92.4792396</td></tr>\n",
       "<tr><td></td>\n",
       "<td>6</td>\n",
       "<td>0.1000016</td>\n",
       "<td>0.8127650</td>\n",
       "<td>1.8246100</td>\n",
       "<td>1.8747022</td>\n",
       "<td>0.9123854</td>\n",
       "<td>0.8261136</td>\n",
       "<td>0.9374337</td>\n",
       "<td>0.8438767</td>\n",
       "<td>0.0912301</td>\n",
       "<td>0.1874732</td>\n",
       "<td>82.4610014</td>\n",
       "<td>87.4702208</td></tr>\n",
       "<tr><td></td>\n",
       "<td>7</td>\n",
       "<td>0.1500014</td>\n",
       "<td>0.7874698</td>\n",
       "<td>1.7337199</td>\n",
       "<td>1.8277087</td>\n",
       "<td>0.8669363</td>\n",
       "<td>0.8000642</td>\n",
       "<td>0.9139349</td>\n",
       "<td>0.8292727</td>\n",
       "<td>0.0866856</td>\n",
       "<td>0.2741589</td>\n",
       "<td>73.3719851</td>\n",
       "<td>82.7708716</td></tr>\n",
       "<tr><td></td>\n",
       "<td>8</td>\n",
       "<td>0.2000012</td>\n",
       "<td>0.7618788</td>\n",
       "<td>1.6694161</td>\n",
       "<td>1.7881359</td>\n",
       "<td>0.8347816</td>\n",
       "<td>0.7747473</td>\n",
       "<td>0.8941467</td>\n",
       "<td>0.8156415</td>\n",
       "<td>0.0834705</td>\n",
       "<td>0.3576293</td>\n",
       "<td>66.9416061</td>\n",
       "<td>78.8135949</td></tr>\n",
       "<tr><td></td>\n",
       "<td>9</td>\n",
       "<td>0.3000008</td>\n",
       "<td>0.7045807</td>\n",
       "<td>1.5518594</td>\n",
       "<td>1.7093776</td>\n",
       "<td>0.7759981</td>\n",
       "<td>0.7339010</td>\n",
       "<td>0.8547641</td>\n",
       "<td>0.7883948</td>\n",
       "<td>0.1551853</td>\n",
       "<td>0.5128147</td>\n",
       "<td>55.1859445</td>\n",
       "<td>70.9377640</td></tr>\n",
       "<tr><td></td>\n",
       "<td>10</td>\n",
       "<td>0.4000004</td>\n",
       "<td>0.6365927</td>\n",
       "<td>1.3740030</td>\n",
       "<td>1.6255344</td>\n",
       "<td>0.6870620</td>\n",
       "<td>0.6715850</td>\n",
       "<td>0.8128388</td>\n",
       "<td>0.7591925</td>\n",
       "<td>0.1373998</td>\n",
       "<td>0.6502144</td>\n",
       "<td>37.4003011</td>\n",
       "<td>62.5534402</td></tr>\n",
       "<tr><td></td>\n",
       "<td>11</td>\n",
       "<td>0.5</td>\n",
       "<td>0.5562523</td>\n",
       "<td>1.1868974</td>\n",
       "<td>1.5378074</td>\n",
       "<td>0.5935010</td>\n",
       "<td>0.5976696</td>\n",
       "<td>0.7689714</td>\n",
       "<td>0.7268881</td>\n",
       "<td>0.1186893</td>\n",
       "<td>0.7689037</td>\n",
       "<td>18.6897403</td>\n",
       "<td>53.7807354</td></tr>\n",
       "<tr><td></td>\n",
       "<td>12</td>\n",
       "<td>0.5999996</td>\n",
       "<td>0.4547518</td>\n",
       "<td>0.9801723</td>\n",
       "<td>1.4448685</td>\n",
       "<td>0.4901293</td>\n",
       "<td>0.5075555</td>\n",
       "<td>0.7224979</td>\n",
       "<td>0.6903328</td>\n",
       "<td>0.0980168</td>\n",
       "<td>0.8669205</td>\n",
       "<td>-1.9827669</td>\n",
       "<td>44.4868493</td></tr>\n",
       "<tr><td></td>\n",
       "<td>13</td>\n",
       "<td>0.6999992</td>\n",
       "<td>0.3250559</td>\n",
       "<td>0.7106650</td>\n",
       "<td>1.3399826</td>\n",
       "<td>0.3553638</td>\n",
       "<td>0.3924910</td>\n",
       "<td>0.6700503</td>\n",
       "<td>0.6477841</td>\n",
       "<td>0.0710662</td>\n",
       "<td>0.9379867</td>\n",
       "<td>-28.9335020</td>\n",
       "<td>33.9982577</td></tr>\n",
       "<tr><td></td>\n",
       "<td>14</td>\n",
       "<td>0.7999988</td>\n",
       "<td>0.1862748</td>\n",
       "<td>0.4186953</td>\n",
       "<td>1.2248220</td>\n",
       "<td>0.2093661</td>\n",
       "<td>0.2526561</td>\n",
       "<td>0.6124649</td>\n",
       "<td>0.5983932</td>\n",
       "<td>0.0418694</td>\n",
       "<td>0.9798561</td>\n",
       "<td>-58.1304654</td>\n",
       "<td>22.4821961</td></tr>\n",
       "<tr><td></td>\n",
       "<td>15</td>\n",
       "<td>0.8999984</td>\n",
       "<td>0.1071178</td>\n",
       "<td>0.1820606</td>\n",
       "<td>1.1089598</td>\n",
       "<td>0.0910383</td>\n",
       "<td>0.1422293</td>\n",
       "<td>0.5545288</td>\n",
       "<td>0.5477084</td>\n",
       "<td>0.0182060</td>\n",
       "<td>0.9980621</td>\n",
       "<td>-81.7939396</td>\n",
       "<td>10.8959846</td></tr>\n",
       "<tr><td></td>\n",
       "<td>16</td>\n",
       "<td>1.0</td>\n",
       "<td>0.0616423</td>\n",
       "<td>0.0193788</td>\n",
       "<td>1.0</td>\n",
       "<td>0.0096903</td>\n",
       "<td>0.0807039</td>\n",
       "<td>0.5000440</td>\n",
       "<td>0.5010072</td>\n",
       "<td>0.0019379</td>\n",
       "<td>1.0</td>\n",
       "<td>-98.0621164</td>\n",
       "<td>0.0</td></tr></table></div>"
      ],
      "text/plain": [
       "    group    cumulative_data_fraction    lower_threshold    lift       cumulative_lift    response_rate    score      cumulative_response_rate    cumulative_score    capture_rate    cumulative_capture_rate    gain      cumulative_gain\n",
       "--  -------  --------------------------  -----------------  ---------  -----------------  ---------------  ---------  --------------------------  ------------------  --------------  -------------------------  --------  -----------------\n",
       "    1        0.0100008                   0.875352           1.98021    1.98021            0.99019          0.886138   0.99019                     0.886138            0.0198036       0.0198036                  98.0206   98.0206\n",
       "    2        0.0200015                   0.863431           1.94457    1.96239            0.972372         0.868997   0.981281                    0.877568            0.0194472       0.0392508                  94.4573   96.239\n",
       "    3        0.0300003                   0.854402           1.91893    1.94791            0.959551         0.858786   0.974039                    0.871308            0.019187        0.0584377                  91.8934   94.7906\n",
       "    4        0.040001                    0.847004           1.89693    1.93516            0.948549         0.850601   0.967666                    0.866131            0.0189707       0.0774085                  89.693    93.5162\n",
       "    5        0.0500018                   0.840383           1.88332    1.92479            0.941742         0.843672   0.962481                    0.861639            0.0188346       0.0962431                  88.3318   92.4792\n",
       "    6        0.100002                    0.812765           1.82461    1.8747             0.912385         0.826114   0.937434                    0.843877            0.0912301       0.187473                   82.461    87.4702\n",
       "    7        0.150001                    0.78747            1.73372    1.82771            0.866936         0.800064   0.913935                    0.829273            0.0866856       0.274159                   73.372    82.7709\n",
       "    8        0.200001                    0.761879           1.66942    1.78814            0.834782         0.774747   0.894147                    0.815642            0.0834705       0.357629                   66.9416   78.8136\n",
       "    9        0.300001                    0.704581           1.55186    1.70938            0.775998         0.733901   0.854764                    0.788395            0.155185        0.512815                   55.1859   70.9378\n",
       "    10       0.4                         0.636593           1.374      1.62553            0.687062         0.671585   0.812839                    0.759193            0.1374          0.650214                   37.4003   62.5534\n",
       "    11       0.5                         0.556252           1.1869     1.53781            0.593501         0.59767    0.768971                    0.726888            0.118689        0.768904                   18.6897   53.7807\n",
       "    12       0.6                         0.454752           0.980172   1.44487            0.490129         0.507556   0.722498                    0.690333            0.0980168       0.866921                   -1.98277  44.4868\n",
       "    13       0.699999                    0.325056           0.710665   1.33998            0.355364         0.392491   0.67005                     0.647784            0.0710662       0.937987                   -28.9335  33.9983\n",
       "    14       0.799999                    0.186275           0.418695   1.22482            0.209366         0.252656   0.612465                    0.598393            0.0418694       0.979856                   -58.1305  22.4822\n",
       "    15       0.899998                    0.107118           0.182061   1.10896            0.0910383        0.142229   0.554529                    0.547708            0.018206        0.998062                   -81.7939  10.896\n",
       "    16       1                           0.0616423          0.0193788  1                  0.00969027       0.0807039  0.500044                    0.501007            0.00193791      1                          -98.0621  0"
      ]
     },
     "metadata": {},
     "output_type": "display_data"
    },
    {
     "name": "stdout",
     "output_type": "stream",
     "text": [
      "\n",
      "\n",
      "ModelMetricsBinomialGLM: stackedensemble\n",
      "** Reported on cross-validation data. **\n",
      "\n",
      "MSE: 0.18522623135541405\n",
      "RMSE: 0.4303791716096564\n",
      "LogLoss: 0.5470635667989722\n",
      "Null degrees of freedom: 499461\n",
      "Residual degrees of freedom: 499457\n",
      "Null deviance: 692405.5761637995\n",
      "Residual deviance: 546474.9264010965\n",
      "AIC: 546484.9264010965\n",
      "AUC: 0.7910925648978956\n",
      "pr_auc: 0.7639393362915045\n",
      "Gini: 0.5821851297957912\n",
      "Confusion Matrix (Act/Pred) for max f1 @ threshold = 0.3442042249492047: \n"
     ]
    },
    {
     "data": {
      "text/html": [
       "<div style=\"overflow:auto\"><table style=\"width:50%\"><tr><td><b></b></td>\n",
       "<td><b>0</b></td>\n",
       "<td><b>1</b></td>\n",
       "<td><b>Error</b></td>\n",
       "<td><b>Rate</b></td></tr>\n",
       "<tr><td>0</td>\n",
       "<td>127984.0</td>\n",
       "<td>121725.0</td>\n",
       "<td>0.4875</td>\n",
       "<td> (121725.0/249709.0)</td></tr>\n",
       "<tr><td>1</td>\n",
       "<td>26536.0</td>\n",
       "<td>223217.0</td>\n",
       "<td>0.1062</td>\n",
       "<td> (26536.0/249753.0)</td></tr>\n",
       "<tr><td>Total</td>\n",
       "<td>154520.0</td>\n",
       "<td>344942.0</td>\n",
       "<td>0.2968</td>\n",
       "<td> (148261.0/499462.0)</td></tr></table></div>"
      ],
      "text/plain": [
       "       0       1       Error    Rate\n",
       "-----  ------  ------  -------  -------------------\n",
       "0      127984  121725  0.4875   (121725.0/249709.0)\n",
       "1      26536   223217  0.1062   (26536.0/249753.0)\n",
       "Total  154520  344942  0.2968   (148261.0/499462.0)"
      ]
     },
     "metadata": {},
     "output_type": "display_data"
    },
    {
     "name": "stdout",
     "output_type": "stream",
     "text": [
      "Maximum Metrics: Maximum metrics at their respective thresholds\n",
      "\n"
     ]
    },
    {
     "data": {
      "text/html": [
       "<div style=\"overflow:auto\"><table style=\"width:50%\"><tr><td><b>metric</b></td>\n",
       "<td><b>threshold</b></td>\n",
       "<td><b>value</b></td>\n",
       "<td><b>idx</b></td></tr>\n",
       "<tr><td>max f1</td>\n",
       "<td>0.3442042</td>\n",
       "<td>0.7506941</td>\n",
       "<td>271.0</td></tr>\n",
       "<tr><td>max f2</td>\n",
       "<td>0.1594933</td>\n",
       "<td>0.8601723</td>\n",
       "<td>349.0</td></tr>\n",
       "<tr><td>max f0point5</td>\n",
       "<td>0.5675000</td>\n",
       "<td>0.7131391</td>\n",
       "<td>171.0</td></tr>\n",
       "<tr><td>max accuracy</td>\n",
       "<td>0.5014266</td>\n",
       "<td>0.7164990</td>\n",
       "<td>203.0</td></tr>\n",
       "<tr><td>max precision</td>\n",
       "<td>0.8989645</td>\n",
       "<td>0.9636364</td>\n",
       "<td>2.0</td></tr>\n",
       "<tr><td>max recall</td>\n",
       "<td>0.0644901</td>\n",
       "<td>1.0</td>\n",
       "<td>398.0</td></tr>\n",
       "<tr><td>max specificity</td>\n",
       "<td>0.9070075</td>\n",
       "<td>0.9999760</td>\n",
       "<td>0.0</td></tr>\n",
       "<tr><td>max absolute_mcc</td>\n",
       "<td>0.3978339</td>\n",
       "<td>0.4417713</td>\n",
       "<td>248.0</td></tr>\n",
       "<tr><td>max min_per_class_accuracy</td>\n",
       "<td>0.5554686</td>\n",
       "<td>0.7112307</td>\n",
       "<td>177.0</td></tr>\n",
       "<tr><td>max mean_per_class_accuracy</td>\n",
       "<td>0.5014266</td>\n",
       "<td>0.7164939</td>\n",
       "<td>203.0</td></tr></table></div>"
      ],
      "text/plain": [
       "metric                       threshold    value     idx\n",
       "---------------------------  -----------  --------  -----\n",
       "max f1                       0.344204     0.750694  271\n",
       "max f2                       0.159493     0.860172  349\n",
       "max f0point5                 0.5675       0.713139  171\n",
       "max accuracy                 0.501427     0.716499  203\n",
       "max precision                0.898965     0.963636  2\n",
       "max recall                   0.0644901    1         398\n",
       "max specificity              0.907008     0.999976  0\n",
       "max absolute_mcc             0.397834     0.441771  248\n",
       "max min_per_class_accuracy   0.555469     0.711231  177\n",
       "max mean_per_class_accuracy  0.501427     0.716494  203"
      ]
     },
     "metadata": {},
     "output_type": "display_data"
    },
    {
     "name": "stdout",
     "output_type": "stream",
     "text": [
      "Gains/Lift Table: Avg response rate: 50.00 %, avg score: 50.00 %\n",
      "\n"
     ]
    },
    {
     "data": {
      "text/html": [
       "<div style=\"overflow:auto\"><table style=\"width:50%\"><tr><td><b></b></td>\n",
       "<td><b>group</b></td>\n",
       "<td><b>cumulative_data_fraction</b></td>\n",
       "<td><b>lower_threshold</b></td>\n",
       "<td><b>lift</b></td>\n",
       "<td><b>cumulative_lift</b></td>\n",
       "<td><b>response_rate</b></td>\n",
       "<td><b>score</b></td>\n",
       "<td><b>cumulative_response_rate</b></td>\n",
       "<td><b>cumulative_score</b></td>\n",
       "<td><b>capture_rate</b></td>\n",
       "<td><b>cumulative_capture_rate</b></td>\n",
       "<td><b>gain</b></td>\n",
       "<td><b>cumulative_gain</b></td></tr>\n",
       "<tr><td></td>\n",
       "<td>1</td>\n",
       "<td>0.0100008</td>\n",
       "<td>0.8732495</td>\n",
       "<td>1.8624986</td>\n",
       "<td>1.8624986</td>\n",
       "<td>0.9313313</td>\n",
       "<td>0.8842967</td>\n",
       "<td>0.9313313</td>\n",
       "<td>0.8842967</td>\n",
       "<td>0.0186264</td>\n",
       "<td>0.0186264</td>\n",
       "<td>86.2498586</td>\n",
       "<td>86.2498586</td></tr>\n",
       "<tr><td></td>\n",
       "<td>2</td>\n",
       "<td>0.0200015</td>\n",
       "<td>0.8607060</td>\n",
       "<td>1.7972391</td>\n",
       "<td>1.8298688</td>\n",
       "<td>0.8986987</td>\n",
       "<td>0.8665760</td>\n",
       "<td>0.9150150</td>\n",
       "<td>0.8754364</td>\n",
       "<td>0.0179738</td>\n",
       "<td>0.0366002</td>\n",
       "<td>79.7239070</td>\n",
       "<td>82.9868828</td></tr>\n",
       "<tr><td></td>\n",
       "<td>3</td>\n",
       "<td>0.0300003</td>\n",
       "<td>0.8513868</td>\n",
       "<td>1.7327268</td>\n",
       "<td>1.7974925</td>\n",
       "<td>0.8664397</td>\n",
       "<td>0.8558256</td>\n",
       "<td>0.8988254</td>\n",
       "<td>0.8689003</td>\n",
       "<td>0.0173251</td>\n",
       "<td>0.0539253</td>\n",
       "<td>73.2726811</td>\n",
       "<td>79.7492478</td></tr>\n",
       "<tr><td></td>\n",
       "<td>4</td>\n",
       "<td>0.0400010</td>\n",
       "<td>0.8436547</td>\n",
       "<td>1.7311788</td>\n",
       "<td>1.7809132</td>\n",
       "<td>0.8656657</td>\n",
       "<td>0.8474730</td>\n",
       "<td>0.8905351</td>\n",
       "<td>0.8635432</td>\n",
       "<td>0.0173131</td>\n",
       "<td>0.0712384</td>\n",
       "<td>73.1178823</td>\n",
       "<td>78.0913234</td></tr>\n",
       "<tr><td></td>\n",
       "<td>5</td>\n",
       "<td>0.0500018</td>\n",
       "<td>0.8368223</td>\n",
       "<td>1.7119613</td>\n",
       "<td>1.7671223</td>\n",
       "<td>0.8560561</td>\n",
       "<td>0.8402000</td>\n",
       "<td>0.8836390</td>\n",
       "<td>0.8588744</td>\n",
       "<td>0.0171209</td>\n",
       "<td>0.0883593</td>\n",
       "<td>71.1961297</td>\n",
       "<td>76.7122295</td></tr>\n",
       "<tr><td></td>\n",
       "<td>6</td>\n",
       "<td>0.1000016</td>\n",
       "<td>0.8086447</td>\n",
       "<td>1.6499568</td>\n",
       "<td>1.7085407</td>\n",
       "<td>0.8250511</td>\n",
       "<td>0.8223375</td>\n",
       "<td>0.8543456</td>\n",
       "<td>0.8406063</td>\n",
       "<td>0.0824975</td>\n",
       "<td>0.1708568</td>\n",
       "<td>64.9956758</td>\n",
       "<td>70.8540699</td></tr>\n",
       "<tr><td></td>\n",
       "<td>7</td>\n",
       "<td>0.1500014</td>\n",
       "<td>0.7830667</td>\n",
       "<td>1.5654729</td>\n",
       "<td>1.6608521</td>\n",
       "<td>0.7828054</td>\n",
       "<td>0.7957928</td>\n",
       "<td>0.8304992</td>\n",
       "<td>0.8256687</td>\n",
       "<td>0.0782733</td>\n",
       "<td>0.2491301</td>\n",
       "<td>56.5472950</td>\n",
       "<td>66.0852086</td></tr>\n",
       "<tr><td></td>\n",
       "<td>8</td>\n",
       "<td>0.2000012</td>\n",
       "<td>0.7567605</td>\n",
       "<td>1.5069349</td>\n",
       "<td>1.6223732</td>\n",
       "<td>0.7535338</td>\n",
       "<td>0.7699853</td>\n",
       "<td>0.8112580</td>\n",
       "<td>0.8117480</td>\n",
       "<td>0.0753464</td>\n",
       "<td>0.3244766</td>\n",
       "<td>50.6934880</td>\n",
       "<td>62.2373170</td></tr>\n",
       "<tr><td></td>\n",
       "<td>9</td>\n",
       "<td>0.3000008</td>\n",
       "<td>0.6990824</td>\n",
       "<td>1.4177264</td>\n",
       "<td>1.5541580</td>\n",
       "<td>0.7089256</td>\n",
       "<td>0.7286016</td>\n",
       "<td>0.7771475</td>\n",
       "<td>0.7840327</td>\n",
       "<td>0.1417721</td>\n",
       "<td>0.4662487</td>\n",
       "<td>41.7726385</td>\n",
       "<td>55.4158030</td></tr>\n",
       "<tr><td></td>\n",
       "<td>10</td>\n",
       "<td>0.4000004</td>\n",
       "<td>0.6317410</td>\n",
       "<td>1.2930027</td>\n",
       "<td>1.4888695</td>\n",
       "<td>0.6465583</td>\n",
       "<td>0.6661822</td>\n",
       "<td>0.7445003</td>\n",
       "<td>0.7545702</td>\n",
       "<td>0.1292997</td>\n",
       "<td>0.5955484</td>\n",
       "<td>29.3002659</td>\n",
       "<td>48.8869514</td></tr>\n",
       "<tr><td></td>\n",
       "<td>11</td>\n",
       "<td>0.5</td>\n",
       "<td>0.5533324</td>\n",
       "<td>1.1715622</td>\n",
       "<td>1.4254083</td>\n",
       "<td>0.5858327</td>\n",
       "<td>0.5936485</td>\n",
       "<td>0.7127669</td>\n",
       "<td>0.7223860</td>\n",
       "<td>0.1171557</td>\n",
       "<td>0.7127042</td>\n",
       "<td>17.1562190</td>\n",
       "<td>42.5408303</td></tr>\n",
       "<tr><td></td>\n",
       "<td>12</td>\n",
       "<td>0.5999996</td>\n",
       "<td>0.4548967</td>\n",
       "<td>1.0278196</td>\n",
       "<td>1.3591437</td>\n",
       "<td>0.5139551</td>\n",
       "<td>0.5060747</td>\n",
       "<td>0.6796317</td>\n",
       "<td>0.6863342</td>\n",
       "<td>0.1027815</td>\n",
       "<td>0.8154857</td>\n",
       "<td>2.7819597</td>\n",
       "<td>35.9143740</td></tr>\n",
       "<tr><td></td>\n",
       "<td>13</td>\n",
       "<td>0.6999992</td>\n",
       "<td>0.3300536</td>\n",
       "<td>0.8506038</td>\n",
       "<td>1.2864954</td>\n",
       "<td>0.4253394</td>\n",
       "<td>0.3945909</td>\n",
       "<td>0.6433044</td>\n",
       "<td>0.6446568</td>\n",
       "<td>0.0850600</td>\n",
       "<td>0.9005457</td>\n",
       "<td>-14.9396201</td>\n",
       "<td>28.6495385</td></tr>\n",
       "<tr><td></td>\n",
       "<td>14</td>\n",
       "<td>0.7999988</td>\n",
       "<td>0.1920251</td>\n",
       "<td>0.6067219</td>\n",
       "<td>1.2015239</td>\n",
       "<td>0.3033877</td>\n",
       "<td>0.2589564</td>\n",
       "<td>0.6008149</td>\n",
       "<td>0.5964443</td>\n",
       "<td>0.0606719</td>\n",
       "<td>0.9612177</td>\n",
       "<td>-39.3278132</td>\n",
       "<td>20.1523908</td></tr>\n",
       "<tr><td></td>\n",
       "<td>15</td>\n",
       "<td>0.8999984</td>\n",
       "<td>0.1102497</td>\n",
       "<td>0.3151126</td>\n",
       "<td>1.1030340</td>\n",
       "<td>0.1575702</td>\n",
       "<td>0.1467081</td>\n",
       "<td>0.5515656</td>\n",
       "<td>0.5464737</td>\n",
       "<td>0.0315111</td>\n",
       "<td>0.9927288</td>\n",
       "<td>-68.4887408</td>\n",
       "<td>10.3033981</td></tr>\n",
       "<tr><td></td>\n",
       "<td>16</td>\n",
       "<td>1.0</td>\n",
       "<td>0.0619564</td>\n",
       "<td>0.0727107</td>\n",
       "<td>1.0</td>\n",
       "<td>0.0363585</td>\n",
       "<td>0.0822146</td>\n",
       "<td>0.5000440</td>\n",
       "<td>0.5000471</td>\n",
       "<td>0.0072712</td>\n",
       "<td>1.0</td>\n",
       "<td>-92.7289325</td>\n",
       "<td>0.0</td></tr></table></div>"
      ],
      "text/plain": [
       "    group    cumulative_data_fraction    lower_threshold    lift       cumulative_lift    response_rate    score      cumulative_response_rate    cumulative_score    capture_rate    cumulative_capture_rate    gain      cumulative_gain\n",
       "--  -------  --------------------------  -----------------  ---------  -----------------  ---------------  ---------  --------------------------  ------------------  --------------  -------------------------  --------  -----------------\n",
       "    1        0.0100008                   0.87325            1.8625     1.8625             0.931331         0.884297   0.931331                    0.884297            0.0186264       0.0186264                  86.2499   86.2499\n",
       "    2        0.0200015                   0.860706           1.79724    1.82987            0.898699         0.866576   0.915015                    0.875436            0.0179738       0.0366002                  79.7239   82.9869\n",
       "    3        0.0300003                   0.851387           1.73273    1.79749            0.86644          0.855826   0.898825                    0.8689              0.0173251       0.0539253                  73.2727   79.7492\n",
       "    4        0.040001                    0.843655           1.73118    1.78091            0.865666         0.847473   0.890535                    0.863543            0.0173131       0.0712384                  73.1179   78.0913\n",
       "    5        0.0500018                   0.836822           1.71196    1.76712            0.856056         0.8402     0.883639                    0.858874            0.0171209       0.0883593                  71.1961   76.7122\n",
       "    6        0.100002                    0.808645           1.64996    1.70854            0.825051         0.822338   0.854346                    0.840606            0.0824975       0.170857                   64.9957   70.8541\n",
       "    7        0.150001                    0.783067           1.56547    1.66085            0.782805         0.795793   0.830499                    0.825669            0.0782733       0.24913                    56.5473   66.0852\n",
       "    8        0.200001                    0.756761           1.50693    1.62237            0.753534         0.769985   0.811258                    0.811748            0.0753464       0.324477                   50.6935   62.2373\n",
       "    9        0.300001                    0.699082           1.41773    1.55416            0.708926         0.728602   0.777147                    0.784033            0.141772        0.466249                   41.7726   55.4158\n",
       "    10       0.4                         0.631741           1.293      1.48887            0.646558         0.666182   0.7445                      0.75457             0.1293          0.595548                   29.3003   48.887\n",
       "    11       0.5                         0.553332           1.17156    1.42541            0.585833         0.593649   0.712767                    0.722386            0.117156        0.712704                   17.1562   42.5408\n",
       "    12       0.6                         0.454897           1.02782    1.35914            0.513955         0.506075   0.679632                    0.686334            0.102782        0.815486                   2.78196   35.9144\n",
       "    13       0.699999                    0.330054           0.850604   1.2865             0.425339         0.394591   0.643304                    0.644657            0.08506         0.900546                   -14.9396  28.6495\n",
       "    14       0.799999                    0.192025           0.606722   1.20152            0.303388         0.258956   0.600815                    0.596444            0.0606719       0.961218                   -39.3278  20.1524\n",
       "    15       0.899998                    0.11025            0.315113   1.10303            0.15757          0.146708   0.551566                    0.546474            0.0315111       0.992729                   -68.4887  10.3034\n",
       "    16       1                           0.0619564          0.0727107  1                  0.0363585        0.0822146  0.500044                    0.500047            0.00727118      1                          -92.7289  0"
      ]
     },
     "metadata": {},
     "output_type": "display_data"
    },
    {
     "name": "stdout",
     "output_type": "stream",
     "text": [
      "\n"
     ]
    },
    {
     "data": {
      "text/plain": []
     },
     "execution_count": 79,
     "metadata": {},
     "output_type": "execute_result"
    }
   ],
   "source": [
    "aml.leader"
   ]
  },
  {
   "cell_type": "markdown",
   "metadata": {},
   "source": [
    "## X. Generate predictions on test dataset with the best ML model"
   ]
  },
  {
   "cell_type": "code",
   "execution_count": 84,
   "metadata": {},
   "outputs": [
    {
     "data": {
      "text/html": [
       "<div>\n",
       "<style scoped>\n",
       "    .dataframe tbody tr th:only-of-type {\n",
       "        vertical-align: middle;\n",
       "    }\n",
       "\n",
       "    .dataframe tbody tr th {\n",
       "        vertical-align: top;\n",
       "    }\n",
       "\n",
       "    .dataframe thead th {\n",
       "        text-align: right;\n",
       "    }\n",
       "</style>\n",
       "<table border=\"1\" class=\"dataframe\">\n",
       "  <thead>\n",
       "    <tr style=\"text-align: right;\">\n",
       "      <th></th>\n",
       "      <th>loan_type</th>\n",
       "      <th>property_type</th>\n",
       "      <th>loan_purpose</th>\n",
       "      <th>occupancy</th>\n",
       "      <th>loan_amount</th>\n",
       "      <th>preapproval</th>\n",
       "      <th>msa_md</th>\n",
       "      <th>state_code</th>\n",
       "      <th>county_code</th>\n",
       "      <th>applicant_ethnicity</th>\n",
       "      <th>...</th>\n",
       "      <th>minority_population_pct</th>\n",
       "      <th>ffiecmedian_family_income</th>\n",
       "      <th>tract_to_msa_md_income_pct</th>\n",
       "      <th>number_of_owner-occupied_units</th>\n",
       "      <th>number_of_1_to_4_family_units</th>\n",
       "      <th>lender</th>\n",
       "      <th>co_applicant</th>\n",
       "      <th>minority_population</th>\n",
       "      <th>tract_to_msa_md_income</th>\n",
       "      <th>loan/income</th>\n",
       "    </tr>\n",
       "  </thead>\n",
       "  <tbody>\n",
       "    <tr>\n",
       "      <td>0</td>\n",
       "      <td>2</td>\n",
       "      <td>1</td>\n",
       "      <td>3</td>\n",
       "      <td>1</td>\n",
       "      <td>115.0</td>\n",
       "      <td>3</td>\n",
       "      <td>101</td>\n",
       "      <td>16</td>\n",
       "      <td>276</td>\n",
       "      <td>2</td>\n",
       "      <td>...</td>\n",
       "      <td>59.536</td>\n",
       "      <td>69889.0</td>\n",
       "      <td>85.78</td>\n",
       "      <td>1874.0</td>\n",
       "      <td>2410.0</td>\n",
       "      <td>3791</td>\n",
       "      <td>True</td>\n",
       "      <td>376803.344</td>\n",
       "      <td>5995078.42</td>\n",
       "      <td>1.554054</td>\n",
       "    </tr>\n",
       "    <tr>\n",
       "      <td>1</td>\n",
       "      <td>1</td>\n",
       "      <td>1</td>\n",
       "      <td>1</td>\n",
       "      <td>1</td>\n",
       "      <td>252.0</td>\n",
       "      <td>2</td>\n",
       "      <td>87</td>\n",
       "      <td>20</td>\n",
       "      <td>68</td>\n",
       "      <td>2</td>\n",
       "      <td>...</td>\n",
       "      <td>8.050</td>\n",
       "      <td>65313.0</td>\n",
       "      <td>100.00</td>\n",
       "      <td>947.0</td>\n",
       "      <td>1214.0</td>\n",
       "      <td>2839</td>\n",
       "      <td>True</td>\n",
       "      <td>19907.650</td>\n",
       "      <td>6531300.00</td>\n",
       "      <td>2.355140</td>\n",
       "    </tr>\n",
       "    <tr>\n",
       "      <td>2</td>\n",
       "      <td>1</td>\n",
       "      <td>1</td>\n",
       "      <td>1</td>\n",
       "      <td>1</td>\n",
       "      <td>270.0</td>\n",
       "      <td>1</td>\n",
       "      <td>-1</td>\n",
       "      <td>-1</td>\n",
       "      <td>-1</td>\n",
       "      <td>2</td>\n",
       "      <td>...</td>\n",
       "      <td>22.955</td>\n",
       "      <td>67514.0</td>\n",
       "      <td>100.00</td>\n",
       "      <td>1326.0</td>\n",
       "      <td>1753.0</td>\n",
       "      <td>4701</td>\n",
       "      <td>False</td>\n",
       "      <td>114201.125</td>\n",
       "      <td>6751400.00</td>\n",
       "      <td>2.268908</td>\n",
       "    </tr>\n",
       "    <tr>\n",
       "      <td>3</td>\n",
       "      <td>2</td>\n",
       "      <td>1</td>\n",
       "      <td>1</td>\n",
       "      <td>1</td>\n",
       "      <td>179.0</td>\n",
       "      <td>2</td>\n",
       "      <td>376</td>\n",
       "      <td>20</td>\n",
       "      <td>11</td>\n",
       "      <td>2</td>\n",
       "      <td>...</td>\n",
       "      <td>29.676</td>\n",
       "      <td>57766.0</td>\n",
       "      <td>100.00</td>\n",
       "      <td>1426.0</td>\n",
       "      <td>1765.0</td>\n",
       "      <td>2153</td>\n",
       "      <td>True</td>\n",
       "      <td>142296.420</td>\n",
       "      <td>5776600.00</td>\n",
       "      <td>4.068182</td>\n",
       "    </tr>\n",
       "    <tr>\n",
       "      <td>4</td>\n",
       "      <td>2</td>\n",
       "      <td>1</td>\n",
       "      <td>1</td>\n",
       "      <td>1</td>\n",
       "      <td>36.0</td>\n",
       "      <td>2</td>\n",
       "      <td>254</td>\n",
       "      <td>48</td>\n",
       "      <td>156</td>\n",
       "      <td>3</td>\n",
       "      <td>...</td>\n",
       "      <td>5.110</td>\n",
       "      <td>63332.0</td>\n",
       "      <td>100.00</td>\n",
       "      <td>1452.0</td>\n",
       "      <td>2092.0</td>\n",
       "      <td>5710</td>\n",
       "      <td>False</td>\n",
       "      <td>26807.060</td>\n",
       "      <td>6333200.00</td>\n",
       "      <td>1.125000</td>\n",
       "    </tr>\n",
       "  </tbody>\n",
       "</table>\n",
       "<p>5 rows × 24 columns</p>\n",
       "</div>"
      ],
      "text/plain": [
       "   loan_type  property_type  loan_purpose  occupancy  loan_amount  \\\n",
       "0          2              1             3          1        115.0   \n",
       "1          1              1             1          1        252.0   \n",
       "2          1              1             1          1        270.0   \n",
       "3          2              1             1          1        179.0   \n",
       "4          2              1             1          1         36.0   \n",
       "\n",
       "   preapproval  msa_md  state_code  county_code  applicant_ethnicity  ...  \\\n",
       "0            3     101          16          276                    2  ...   \n",
       "1            2      87          20           68                    2  ...   \n",
       "2            1      -1          -1           -1                    2  ...   \n",
       "3            2     376          20           11                    2  ...   \n",
       "4            2     254          48          156                    3  ...   \n",
       "\n",
       "   minority_population_pct  ffiecmedian_family_income  \\\n",
       "0                   59.536                    69889.0   \n",
       "1                    8.050                    65313.0   \n",
       "2                   22.955                    67514.0   \n",
       "3                   29.676                    57766.0   \n",
       "4                    5.110                    63332.0   \n",
       "\n",
       "   tract_to_msa_md_income_pct  number_of_owner-occupied_units  \\\n",
       "0                       85.78                          1874.0   \n",
       "1                      100.00                           947.0   \n",
       "2                      100.00                          1326.0   \n",
       "3                      100.00                          1426.0   \n",
       "4                      100.00                          1452.0   \n",
       "\n",
       "   number_of_1_to_4_family_units  lender  co_applicant  minority_population  \\\n",
       "0                         2410.0    3791          True           376803.344   \n",
       "1                         1214.0    2839          True            19907.650   \n",
       "2                         1753.0    4701         False           114201.125   \n",
       "3                         1765.0    2153          True           142296.420   \n",
       "4                         2092.0    5710         False            26807.060   \n",
       "\n",
       "   tract_to_msa_md_income  loan/income  \n",
       "0              5995078.42     1.554054  \n",
       "1              6531300.00     2.355140  \n",
       "2              6751400.00     2.268908  \n",
       "3              5776600.00     4.068182  \n",
       "4              6333200.00     1.125000  \n",
       "\n",
       "[5 rows x 24 columns]"
      ]
     },
     "execution_count": 84,
     "metadata": {},
     "output_type": "execute_result"
    }
   ],
   "source": [
    "X_test = pd.read_csv('test_values.csv')\n",
    "X_test = X_test.fillna(X_test.median())\n",
    "X_test = feature_eng(X_test)\n",
    "X_test = X_test.drop('row_id', axis=1)\n",
    "\n",
    "X_test.head()"
   ]
  },
  {
   "cell_type": "code",
   "execution_count": 85,
   "metadata": {},
   "outputs": [
    {
     "name": "stdout",
     "output_type": "stream",
     "text": [
      "Parse progress: |█████████████████████████████████████████████████████████| 100%\n",
      "stackedensemble prediction progress: |████████████████████████████████████| 100%\n"
     ]
    }
   ],
   "source": [
    "X_test = h2o.H2OFrame(X_test)\n",
    "y_predict = aml.leader.predict(X_test)"
   ]
  },
  {
   "cell_type": "code",
   "execution_count": 90,
   "metadata": {},
   "outputs": [
    {
     "data": {
      "text/html": [
       "<div>\n",
       "<style scoped>\n",
       "    .dataframe tbody tr th:only-of-type {\n",
       "        vertical-align: middle;\n",
       "    }\n",
       "\n",
       "    .dataframe tbody tr th {\n",
       "        vertical-align: top;\n",
       "    }\n",
       "\n",
       "    .dataframe thead th {\n",
       "        text-align: right;\n",
       "    }\n",
       "</style>\n",
       "<table border=\"1\" class=\"dataframe\">\n",
       "  <thead>\n",
       "    <tr style=\"text-align: right;\">\n",
       "      <th></th>\n",
       "      <th>predict</th>\n",
       "      <th>p0</th>\n",
       "      <th>p1</th>\n",
       "    </tr>\n",
       "  </thead>\n",
       "  <tbody>\n",
       "    <tr>\n",
       "      <td>0</td>\n",
       "      <td>1</td>\n",
       "      <td>0.196275</td>\n",
       "      <td>0.803725</td>\n",
       "    </tr>\n",
       "    <tr>\n",
       "      <td>1</td>\n",
       "      <td>1</td>\n",
       "      <td>0.203826</td>\n",
       "      <td>0.796174</td>\n",
       "    </tr>\n",
       "    <tr>\n",
       "      <td>2</td>\n",
       "      <td>0</td>\n",
       "      <td>0.920800</td>\n",
       "      <td>0.079200</td>\n",
       "    </tr>\n",
       "    <tr>\n",
       "      <td>3</td>\n",
       "      <td>1</td>\n",
       "      <td>0.222352</td>\n",
       "      <td>0.777648</td>\n",
       "    </tr>\n",
       "    <tr>\n",
       "      <td>4</td>\n",
       "      <td>0</td>\n",
       "      <td>0.678128</td>\n",
       "      <td>0.321872</td>\n",
       "    </tr>\n",
       "    <tr>\n",
       "      <td>...</td>\n",
       "      <td>...</td>\n",
       "      <td>...</td>\n",
       "      <td>...</td>\n",
       "    </tr>\n",
       "    <tr>\n",
       "      <td>499995</td>\n",
       "      <td>0</td>\n",
       "      <td>0.872596</td>\n",
       "      <td>0.127404</td>\n",
       "    </tr>\n",
       "    <tr>\n",
       "      <td>499996</td>\n",
       "      <td>1</td>\n",
       "      <td>0.241132</td>\n",
       "      <td>0.758868</td>\n",
       "    </tr>\n",
       "    <tr>\n",
       "      <td>499997</td>\n",
       "      <td>1</td>\n",
       "      <td>0.641042</td>\n",
       "      <td>0.358958</td>\n",
       "    </tr>\n",
       "    <tr>\n",
       "      <td>499998</td>\n",
       "      <td>1</td>\n",
       "      <td>0.559490</td>\n",
       "      <td>0.440510</td>\n",
       "    </tr>\n",
       "    <tr>\n",
       "      <td>499999</td>\n",
       "      <td>1</td>\n",
       "      <td>0.300760</td>\n",
       "      <td>0.699240</td>\n",
       "    </tr>\n",
       "  </tbody>\n",
       "</table>\n",
       "<p>500000 rows × 3 columns</p>\n",
       "</div>"
      ],
      "text/plain": [
       "        predict        p0        p1\n",
       "0             1  0.196275  0.803725\n",
       "1             1  0.203826  0.796174\n",
       "2             0  0.920800  0.079200\n",
       "3             1  0.222352  0.777648\n",
       "4             0  0.678128  0.321872\n",
       "...         ...       ...       ...\n",
       "499995        0  0.872596  0.127404\n",
       "499996        1  0.241132  0.758868\n",
       "499997        1  0.641042  0.358958\n",
       "499998        1  0.559490  0.440510\n",
       "499999        1  0.300760  0.699240\n",
       "\n",
       "[500000 rows x 3 columns]"
      ]
     },
     "execution_count": 90,
     "metadata": {},
     "output_type": "execute_result"
    }
   ],
   "source": [
    "y_predict = y_predict.as_data_frame()\n",
    "y_predict"
   ]
  },
  {
   "cell_type": "code",
   "execution_count": 91,
   "metadata": {},
   "outputs": [],
   "source": [
    "df_predict = pd.DataFrame(np.arange(len(y_predict)), columns=['row_id'])\n",
    "df_predict['accepted'] = y_predict['predict']"
   ]
  },
  {
   "cell_type": "code",
   "execution_count": 92,
   "metadata": {},
   "outputs": [
    {
     "data": {
      "text/html": [
       "<div>\n",
       "<style scoped>\n",
       "    .dataframe tbody tr th:only-of-type {\n",
       "        vertical-align: middle;\n",
       "    }\n",
       "\n",
       "    .dataframe tbody tr th {\n",
       "        vertical-align: top;\n",
       "    }\n",
       "\n",
       "    .dataframe thead th {\n",
       "        text-align: right;\n",
       "    }\n",
       "</style>\n",
       "<table border=\"1\" class=\"dataframe\">\n",
       "  <thead>\n",
       "    <tr style=\"text-align: right;\">\n",
       "      <th></th>\n",
       "      <th>row_id</th>\n",
       "      <th>accepted</th>\n",
       "    </tr>\n",
       "  </thead>\n",
       "  <tbody>\n",
       "    <tr>\n",
       "      <td>0</td>\n",
       "      <td>0</td>\n",
       "      <td>1</td>\n",
       "    </tr>\n",
       "    <tr>\n",
       "      <td>1</td>\n",
       "      <td>1</td>\n",
       "      <td>1</td>\n",
       "    </tr>\n",
       "    <tr>\n",
       "      <td>2</td>\n",
       "      <td>2</td>\n",
       "      <td>0</td>\n",
       "    </tr>\n",
       "    <tr>\n",
       "      <td>3</td>\n",
       "      <td>3</td>\n",
       "      <td>1</td>\n",
       "    </tr>\n",
       "    <tr>\n",
       "      <td>4</td>\n",
       "      <td>4</td>\n",
       "      <td>0</td>\n",
       "    </tr>\n",
       "    <tr>\n",
       "      <td>...</td>\n",
       "      <td>...</td>\n",
       "      <td>...</td>\n",
       "    </tr>\n",
       "    <tr>\n",
       "      <td>499995</td>\n",
       "      <td>499995</td>\n",
       "      <td>0</td>\n",
       "    </tr>\n",
       "    <tr>\n",
       "      <td>499996</td>\n",
       "      <td>499996</td>\n",
       "      <td>1</td>\n",
       "    </tr>\n",
       "    <tr>\n",
       "      <td>499997</td>\n",
       "      <td>499997</td>\n",
       "      <td>1</td>\n",
       "    </tr>\n",
       "    <tr>\n",
       "      <td>499998</td>\n",
       "      <td>499998</td>\n",
       "      <td>1</td>\n",
       "    </tr>\n",
       "    <tr>\n",
       "      <td>499999</td>\n",
       "      <td>499999</td>\n",
       "      <td>1</td>\n",
       "    </tr>\n",
       "  </tbody>\n",
       "</table>\n",
       "<p>500000 rows × 2 columns</p>\n",
       "</div>"
      ],
      "text/plain": [
       "        row_id  accepted\n",
       "0            0         1\n",
       "1            1         1\n",
       "2            2         0\n",
       "3            3         1\n",
       "4            4         0\n",
       "...        ...       ...\n",
       "499995  499995         0\n",
       "499996  499996         1\n",
       "499997  499997         1\n",
       "499998  499998         1\n",
       "499999  499999         1\n",
       "\n",
       "[500000 rows x 2 columns]"
      ]
     },
     "execution_count": 92,
     "metadata": {},
     "output_type": "execute_result"
    }
   ],
   "source": [
    "df_predict"
   ]
  },
  {
   "cell_type": "code",
   "execution_count": 93,
   "metadata": {},
   "outputs": [],
   "source": [
    "df_predict.to_csv('prediction.csv', index=False)"
   ]
  }
 ],
 "metadata": {
  "kernelspec": {
   "display_name": "Python 3",
   "language": "python",
   "name": "python3"
  },
  "language_info": {
   "codemirror_mode": {
    "name": "ipython",
    "version": 3
   },
   "file_extension": ".py",
   "mimetype": "text/x-python",
   "name": "python",
   "nbconvert_exporter": "python",
   "pygments_lexer": "ipython3",
   "version": "3.7.3"
  }
 },
 "nbformat": 4,
 "nbformat_minor": 4
}
